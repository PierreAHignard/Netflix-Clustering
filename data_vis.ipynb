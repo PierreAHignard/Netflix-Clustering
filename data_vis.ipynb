{
 "cells": [
  {
<<<<<<< HEAD
   "cell_type": "code",
   "execution_count": 17,
   "id": "initial_id",
=======
   "cell_type": "markdown",
   "id": "49a66261-896b-42d6-af46-cb2f275934e4",
   "metadata": {
    "collapsed": true,
    "jupyter": {
     "outputs_hidden": true
    }
   },
   "source": [
    "# Challenge 1: Netflix Data Analysis"
   ]
  },
  {
   "cell_type": "markdown",
   "id": "4718d595-8584-4cd0-aca3-8e4d0ae32ca7",
   "metadata": {},
   "source": [
    "##### Team: Clément FORNAGE - Clément EDOUARD - Quentin DENIS - Pierre-Antoine HIGNARD NAUDEAU - Marin HEROGUER - Romain ACHARD"
   ]
  },
  {
   "cell_type": "markdown",
   "id": "0edf802b-8363-4c30-bef7-5a39c489a7c8",
   "metadata": {},
   "source": [
    "### 1. Import Libraries"
   ]
  },
  {
   "cell_type": "code",
   "execution_count": 91,
   "id": "0f175e42-0f5b-42a4-b0ee-532f58eed5b9",
>>>>>>> origin/quentin
   "metadata": {},
   "outputs": [],
   "source": [
    "import pandas as pd\n",
<<<<<<< HEAD
    "import seaborn as sns\n",
    "import matplotlib.pyplot as plt\n",
    "import missingno as msno\n",
    "netflix = pd.read_csv(\"../data/netflix_titles (3).csv\")"
   ]
  },
  {
   "cell_type": "code",
   "execution_count": 18,
   "id": "ef498347-5ca1-4b0c-97df-49be66f783e3",
=======
    "import numpy as np\n",
    "import matplotlib.pyplot as plt\n",
    "import seaborn as sns\n",
    "import missingno as msno"
   ]
  },
  {
   "cell_type": "markdown",
   "id": "62fded4f-260d-4986-818a-9905f8654f69",
   "metadata": {},
   "source": [
    "### 2. Import Data"
   ]
  },
  {
   "cell_type": "code",
   "execution_count": 92,
   "id": "576a8cf9-ccab-4161-bcc0-ce3709fa6cec",
   "metadata": {},
   "outputs": [],
   "source": [
    "path = \"../data/\"\n",
    "movies = pd.read_csv(path + \"netflix_titles.csv\")"
   ]
  },
  {
   "cell_type": "markdown",
   "id": "65e35f64-60fb-412f-ab9b-28532940699e",
   "metadata": {},
   "source": [
    "### 3. First Data Exploration"
   ]
  },
  {
   "cell_type": "markdown",
   "id": "b9154ac2-002d-4b07-8a53-36f8ed9b6320",
   "metadata": {},
   "source": [
    "We display the first few rows to understand the data structure"
   ]
  },
  {
   "cell_type": "code",
   "execution_count": 93,
   "id": "606b3343-eb32-47fe-8799-d0c2aeab0f6b",
>>>>>>> origin/quentin
   "metadata": {},
   "outputs": [
    {
     "data": {
      "text/html": [
       "<div>\n",
       "<style scoped>\n",
       "    .dataframe tbody tr th:only-of-type {\n",
       "        vertical-align: middle;\n",
       "    }\n",
       "\n",
       "    .dataframe tbody tr th {\n",
       "        vertical-align: top;\n",
       "    }\n",
       "\n",
       "    .dataframe thead th {\n",
       "        text-align: right;\n",
       "    }\n",
       "</style>\n",
       "<table border=\"1\" class=\"dataframe\">\n",
       "  <thead>\n",
       "    <tr style=\"text-align: right;\">\n",
       "      <th></th>\n",
       "      <th>show_id</th>\n",
       "      <th>type</th>\n",
       "      <th>title</th>\n",
       "      <th>director</th>\n",
       "      <th>cast</th>\n",
       "      <th>country</th>\n",
       "      <th>date_added</th>\n",
       "      <th>release_year</th>\n",
       "      <th>rating</th>\n",
       "      <th>duration</th>\n",
       "      <th>listed_in</th>\n",
       "      <th>description</th>\n",
       "    </tr>\n",
       "  </thead>\n",
       "  <tbody>\n",
       "    <tr>\n",
       "      <th>0</th>\n",
       "      <td>s1</td>\n",
       "      <td>Movie</td>\n",
       "      <td>Dick Johnson Is Dead</td>\n",
       "      <td>Kirsten Johnson</td>\n",
       "      <td>NaN</td>\n",
       "      <td>United States</td>\n",
       "      <td>September 25, 2021</td>\n",
       "      <td>2020</td>\n",
       "      <td>PG-13</td>\n",
       "      <td>90 min</td>\n",
       "      <td>Documentaries</td>\n",
       "      <td>As her father nears the end of his life, filmm...</td>\n",
       "    </tr>\n",
       "    <tr>\n",
       "      <th>1</th>\n",
       "      <td>s2</td>\n",
       "      <td>TV Show</td>\n",
       "      <td>Blood &amp; Water</td>\n",
       "      <td>NaN</td>\n",
       "      <td>Ama Qamata, Khosi Ngema, Gail Mabalane, Thaban...</td>\n",
       "      <td>South Africa</td>\n",
       "      <td>September 24, 2021</td>\n",
       "      <td>2021</td>\n",
       "      <td>TV-MA</td>\n",
       "      <td>2 Seasons</td>\n",
       "      <td>International TV Shows, TV Dramas, TV Mysteries</td>\n",
       "      <td>After crossing paths at a party, a Cape Town t...</td>\n",
       "    </tr>\n",
       "    <tr>\n",
       "      <th>2</th>\n",
       "      <td>s3</td>\n",
       "      <td>TV Show</td>\n",
       "      <td>Ganglands</td>\n",
       "      <td>Julien Leclercq</td>\n",
       "      <td>Sami Bouajila, Tracy Gotoas, Samuel Jouy, Nabi...</td>\n",
       "      <td>NaN</td>\n",
       "      <td>September 24, 2021</td>\n",
       "      <td>2021</td>\n",
       "      <td>TV-MA</td>\n",
       "      <td>1 Season</td>\n",
       "      <td>Crime TV Shows, International TV Shows, TV Act...</td>\n",
       "      <td>To protect his family from a powerful drug lor...</td>\n",
       "    </tr>\n",
       "    <tr>\n",
       "      <th>3</th>\n",
       "      <td>s4</td>\n",
       "      <td>TV Show</td>\n",
       "      <td>Jailbirds New Orleans</td>\n",
       "      <td>NaN</td>\n",
       "      <td>NaN</td>\n",
       "      <td>NaN</td>\n",
       "      <td>September 24, 2021</td>\n",
       "      <td>2021</td>\n",
       "      <td>TV-MA</td>\n",
       "      <td>1 Season</td>\n",
       "      <td>Docuseries, Reality TV</td>\n",
       "      <td>Feuds, flirtations and toilet talk go down amo...</td>\n",
       "    </tr>\n",
       "    <tr>\n",
       "      <th>4</th>\n",
       "      <td>s5</td>\n",
       "      <td>TV Show</td>\n",
       "      <td>Kota Factory</td>\n",
       "      <td>NaN</td>\n",
       "      <td>Mayur More, Jitendra Kumar, Ranjan Raj, Alam K...</td>\n",
       "      <td>India</td>\n",
       "      <td>September 24, 2021</td>\n",
       "      <td>2021</td>\n",
       "      <td>TV-MA</td>\n",
       "      <td>2 Seasons</td>\n",
       "      <td>International TV Shows, Romantic TV Shows, TV ...</td>\n",
       "      <td>In a city of coaching centers known to train I...</td>\n",
       "    </tr>\n",
<<<<<<< HEAD
       "    <tr>\n",
       "      <th>...</th>\n",
       "      <td>...</td>\n",
       "      <td>...</td>\n",
       "      <td>...</td>\n",
       "      <td>...</td>\n",
       "      <td>...</td>\n",
       "      <td>...</td>\n",
       "      <td>...</td>\n",
       "      <td>...</td>\n",
       "      <td>...</td>\n",
       "      <td>...</td>\n",
       "      <td>...</td>\n",
       "      <td>...</td>\n",
       "    </tr>\n",
       "    <tr>\n",
       "      <th>8802</th>\n",
       "      <td>s8803</td>\n",
       "      <td>Movie</td>\n",
       "      <td>Zodiac</td>\n",
       "      <td>David Fincher</td>\n",
       "      <td>Mark Ruffalo, Jake Gyllenhaal, Robert Downey J...</td>\n",
       "      <td>United States</td>\n",
       "      <td>November 20, 2019</td>\n",
       "      <td>2007</td>\n",
       "      <td>R</td>\n",
       "      <td>158 min</td>\n",
       "      <td>Cult Movies, Dramas, Thrillers</td>\n",
       "      <td>A political cartoonist, a crime reporter and a...</td>\n",
       "    </tr>\n",
       "    <tr>\n",
       "      <th>8803</th>\n",
       "      <td>s8804</td>\n",
       "      <td>TV Show</td>\n",
       "      <td>Zombie Dumb</td>\n",
       "      <td>NaN</td>\n",
       "      <td>NaN</td>\n",
       "      <td>NaN</td>\n",
       "      <td>July 1, 2019</td>\n",
       "      <td>2018</td>\n",
       "      <td>TV-Y7</td>\n",
       "      <td>2 Seasons</td>\n",
       "      <td>Kids' TV, Korean TV Shows, TV Comedies</td>\n",
       "      <td>While living alone in a spooky town, a young g...</td>\n",
       "    </tr>\n",
       "    <tr>\n",
       "      <th>8804</th>\n",
       "      <td>s8805</td>\n",
       "      <td>Movie</td>\n",
       "      <td>Zombieland</td>\n",
       "      <td>Ruben Fleischer</td>\n",
       "      <td>Jesse Eisenberg, Woody Harrelson, Emma Stone, ...</td>\n",
       "      <td>United States</td>\n",
       "      <td>November 1, 2019</td>\n",
       "      <td>2009</td>\n",
       "      <td>R</td>\n",
       "      <td>88 min</td>\n",
       "      <td>Comedies, Horror Movies</td>\n",
       "      <td>Looking to survive in a world taken over by zo...</td>\n",
       "    </tr>\n",
       "    <tr>\n",
       "      <th>8805</th>\n",
       "      <td>s8806</td>\n",
       "      <td>Movie</td>\n",
       "      <td>Zoom</td>\n",
       "      <td>Peter Hewitt</td>\n",
       "      <td>Tim Allen, Courteney Cox, Chevy Chase, Kate Ma...</td>\n",
       "      <td>United States</td>\n",
       "      <td>January 11, 2020</td>\n",
       "      <td>2006</td>\n",
       "      <td>PG</td>\n",
       "      <td>88 min</td>\n",
       "      <td>Children &amp; Family Movies, Comedies</td>\n",
       "      <td>Dragged from civilian life, a former superhero...</td>\n",
       "    </tr>\n",
       "    <tr>\n",
       "      <th>8806</th>\n",
       "      <td>s8807</td>\n",
       "      <td>Movie</td>\n",
       "      <td>Zubaan</td>\n",
       "      <td>Mozez Singh</td>\n",
       "      <td>Vicky Kaushal, Sarah-Jane Dias, Raaghav Chanan...</td>\n",
       "      <td>India</td>\n",
       "      <td>March 2, 2019</td>\n",
       "      <td>2015</td>\n",
       "      <td>TV-14</td>\n",
       "      <td>111 min</td>\n",
       "      <td>Dramas, International Movies, Music &amp; Musicals</td>\n",
       "      <td>A scrappy but poor boy worms his way into a ty...</td>\n",
       "    </tr>\n",
       "  </tbody>\n",
       "</table>\n",
       "<p>8807 rows × 12 columns</p>\n",
       "</div>"
      ],
      "text/plain": [
       "     show_id     type                  title         director  \\\n",
       "0         s1    Movie   Dick Johnson Is Dead  Kirsten Johnson   \n",
       "1         s2  TV Show          Blood & Water              NaN   \n",
       "2         s3  TV Show              Ganglands  Julien Leclercq   \n",
       "3         s4  TV Show  Jailbirds New Orleans              NaN   \n",
       "4         s5  TV Show           Kota Factory              NaN   \n",
       "...      ...      ...                    ...              ...   \n",
       "8802   s8803    Movie                 Zodiac    David Fincher   \n",
       "8803   s8804  TV Show            Zombie Dumb              NaN   \n",
       "8804   s8805    Movie             Zombieland  Ruben Fleischer   \n",
       "8805   s8806    Movie                   Zoom     Peter Hewitt   \n",
       "8806   s8807    Movie                 Zubaan      Mozez Singh   \n",
       "\n",
       "                                                   cast        country  \\\n",
       "0                                                   NaN  United States   \n",
       "1     Ama Qamata, Khosi Ngema, Gail Mabalane, Thaban...   South Africa   \n",
       "2     Sami Bouajila, Tracy Gotoas, Samuel Jouy, Nabi...            NaN   \n",
       "3                                                   NaN            NaN   \n",
       "4     Mayur More, Jitendra Kumar, Ranjan Raj, Alam K...          India   \n",
       "...                                                 ...            ...   \n",
       "8802  Mark Ruffalo, Jake Gyllenhaal, Robert Downey J...  United States   \n",
       "8803                                                NaN            NaN   \n",
       "8804  Jesse Eisenberg, Woody Harrelson, Emma Stone, ...  United States   \n",
       "8805  Tim Allen, Courteney Cox, Chevy Chase, Kate Ma...  United States   \n",
       "8806  Vicky Kaushal, Sarah-Jane Dias, Raaghav Chanan...          India   \n",
       "\n",
       "              date_added  release_year rating   duration  \\\n",
       "0     September 25, 2021          2020  PG-13     90 min   \n",
       "1     September 24, 2021          2021  TV-MA  2 Seasons   \n",
       "2     September 24, 2021          2021  TV-MA   1 Season   \n",
       "3     September 24, 2021          2021  TV-MA   1 Season   \n",
       "4     September 24, 2021          2021  TV-MA  2 Seasons   \n",
       "...                  ...           ...    ...        ...   \n",
       "8802   November 20, 2019          2007      R    158 min   \n",
       "8803        July 1, 2019          2018  TV-Y7  2 Seasons   \n",
       "8804    November 1, 2019          2009      R     88 min   \n",
       "8805    January 11, 2020          2006     PG     88 min   \n",
       "8806       March 2, 2019          2015  TV-14    111 min   \n",
       "\n",
       "                                              listed_in  \\\n",
       "0                                         Documentaries   \n",
       "1       International TV Shows, TV Dramas, TV Mysteries   \n",
       "2     Crime TV Shows, International TV Shows, TV Act...   \n",
       "3                                Docuseries, Reality TV   \n",
       "4     International TV Shows, Romantic TV Shows, TV ...   \n",
       "...                                                 ...   \n",
       "8802                     Cult Movies, Dramas, Thrillers   \n",
       "8803             Kids' TV, Korean TV Shows, TV Comedies   \n",
       "8804                            Comedies, Horror Movies   \n",
       "8805                 Children & Family Movies, Comedies   \n",
       "8806     Dramas, International Movies, Music & Musicals   \n",
       "\n",
       "                                            description  \n",
       "0     As her father nears the end of his life, filmm...  \n",
       "1     After crossing paths at a party, a Cape Town t...  \n",
       "2     To protect his family from a powerful drug lor...  \n",
       "3     Feuds, flirtations and toilet talk go down amo...  \n",
       "4     In a city of coaching centers known to train I...  \n",
       "...                                                 ...  \n",
       "8802  A political cartoonist, a crime reporter and a...  \n",
       "8803  While living alone in a spooky town, a young g...  \n",
       "8804  Looking to survive in a world taken over by zo...  \n",
       "8805  Dragged from civilian life, a former superhero...  \n",
       "8806  A scrappy but poor boy worms his way into a ty...  \n",
       "\n",
       "[8807 rows x 12 columns]"
      ]
     },
     "execution_count": 18,
=======
       "  </tbody>\n",
       "</table>\n",
       "</div>"
      ],
      "text/plain": [
       "  show_id     type                  title         director   \n",
       "0      s1    Movie   Dick Johnson Is Dead  Kirsten Johnson  \\\n",
       "1      s2  TV Show          Blood & Water              NaN   \n",
       "2      s3  TV Show              Ganglands  Julien Leclercq   \n",
       "3      s4  TV Show  Jailbirds New Orleans              NaN   \n",
       "4      s5  TV Show           Kota Factory              NaN   \n",
       "\n",
       "                                                cast        country   \n",
       "0                                                NaN  United States  \\\n",
       "1  Ama Qamata, Khosi Ngema, Gail Mabalane, Thaban...   South Africa   \n",
       "2  Sami Bouajila, Tracy Gotoas, Samuel Jouy, Nabi...            NaN   \n",
       "3                                                NaN            NaN   \n",
       "4  Mayur More, Jitendra Kumar, Ranjan Raj, Alam K...          India   \n",
       "\n",
       "           date_added  release_year rating   duration   \n",
       "0  September 25, 2021          2020  PG-13     90 min  \\\n",
       "1  September 24, 2021          2021  TV-MA  2 Seasons   \n",
       "2  September 24, 2021          2021  TV-MA   1 Season   \n",
       "3  September 24, 2021          2021  TV-MA   1 Season   \n",
       "4  September 24, 2021          2021  TV-MA  2 Seasons   \n",
       "\n",
       "                                           listed_in   \n",
       "0                                      Documentaries  \\\n",
       "1    International TV Shows, TV Dramas, TV Mysteries   \n",
       "2  Crime TV Shows, International TV Shows, TV Act...   \n",
       "3                             Docuseries, Reality TV   \n",
       "4  International TV Shows, Romantic TV Shows, TV ...   \n",
       "\n",
       "                                         description  \n",
       "0  As her father nears the end of his life, filmm...  \n",
       "1  After crossing paths at a party, a Cape Town t...  \n",
       "2  To protect his family from a powerful drug lor...  \n",
       "3  Feuds, flirtations and toilet talk go down amo...  \n",
       "4  In a city of coaching centers known to train I...  "
      ]
     },
     "execution_count": 93,
>>>>>>> origin/quentin
     "metadata": {},
     "output_type": "execute_result"
    }
   ],
   "source": [
<<<<<<< HEAD
    "#netflix.head()\n",
    "#netflix.dtypes\n",
    "#netflix.describe()\n",
    "netflix"
=======
    "movies.head()"
   ]
  },
  {
   "cell_type": "markdown",
   "id": "1252ae74-623f-42f5-821b-eb55b40aebb9",
   "metadata": {},
   "source": [
    "We print the shape of the dataset"
>>>>>>> origin/quentin
   ]
  },
  {
   "cell_type": "code",
<<<<<<< HEAD
   "execution_count": 3,
   "id": "eb885737-9c68-4f9f-86c6-64425096647a",
=======
   "execution_count": 94,
   "id": "f4a9a9bb-950d-48a2-b834-5e428f2b67fe",
   "metadata": {},
   "outputs": [
    {
     "data": {
      "text/plain": [
       "(8807, 12)"
      ]
     },
     "execution_count": 94,
     "metadata": {},
     "output_type": "execute_result"
    }
   ],
   "source": [
    "movies.shape"
   ]
  },
  {
   "cell_type": "markdown",
   "id": "0169c211-b9f0-4abf-a980-9cfb8dda6da9",
   "metadata": {},
   "source": [
    "We display basic information about the dataset"
   ]
  },
  {
   "cell_type": "code",
   "execution_count": 95,
   "id": "05d48957-d772-4d8e-942b-26dfdccb3401",
>>>>>>> origin/quentin
   "metadata": {},
   "outputs": [
    {
     "name": "stdout",
     "output_type": "stream",
     "text": [
<<<<<<< HEAD
      "Nombre de valeurs manquantes par colonne :\n",
      "\n",
      "director      2634\n",
      "cast           825\n",
      "country        831\n",
      "date_added      10\n",
      "rating           4\n",
      "duration         3\n",
      "dtype: int64\n",
      "\n",
      "Nombre total de valeurs manquantes : 4307\n"
     ]
    },
    {
     "data": {
      "image/png": "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",
      "text/plain": [
       "<Figure size 1200x600 with 1 Axes>"
      ]
     },
     "metadata": {},
     "output_type": "display_data"
    }
   ],
   "source": [
    "# Afficher le nombre de valeurs manquantes par colonne\n",
    "def afficher_valeurs_manquantes(dataframe):\n",
    "    valeurs_na = dataframe.isna().sum()\n",
    "    print(\"Nombre de valeurs manquantes par colonne :\\n\")\n",
    "    print(valeurs_na[valeurs_na > 0])  # n'affiche que les colonnes avec des valeurs manquantes\n",
    "    print(\"\\nNombre total de valeurs manquantes :\", valeurs_na.sum())\n",
    "\n",
    "# Appel de la fonction\n",
    "afficher_valeurs_manquantes(netflix)\n",
    "netflix.shape\n",
    "\n",
    "# Représentation valeur manquantes\n",
    "plt.figure(figsize=(12,6))\n",
    "sns.heatmap(netflix.isna(), cbar=False, cmap='viridis')\n",
    "plt.title(\"Visualisation des valeurs manquantes dans le dataset Netflix\")\n",
    "plt.show()"
   ]
  },
  {
   "cell_type": "code",
   "execution_count": 4,
   "id": "245f6cd4-4dff-4565-a9a2-1405d5a70488",
   "metadata": {},
   "outputs": [
    {
     "data": {
      "text/plain": [
       "<Axes: >"
      ]
     },
     "execution_count": 4,
     "metadata": {},
     "output_type": "execute_result"
    },
    {
     "data": {
      "image/png": "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",
      "text/plain": [
       "<Figure size 2500x1000 with 2 Axes>"
      ]
     },
     "metadata": {},
     "output_type": "display_data"
    }
   ],
   "source": [
    "msno.matrix(netflix)"
   ]
  },
  {
   "cell_type": "code",
   "execution_count": 5,
   "id": "459553b1-ea52-41b5-b855-92c0e0051f36",
   "metadata": {},
   "outputs": [],
   "source": [
    "# 1) Drop show_id et drop date_added\n",
    "netflix_cleaned=netflix.drop([\"show_id\",\"date_added\"], axis=1)"
   ]
  },
  {
   "cell_type": "code",
   "execution_count": 6,
   "id": "472ec611-8aa0-421a-9b01-c8d286632ecc",
   "metadata": {},
   "outputs": [
    {
     "data": {
      "text/plain": [
       "type             0.000000\n",
       "title            0.000000\n",
       "director        29.908028\n",
       "cast             9.367549\n",
       "country          9.435676\n",
       "release_year     0.000000\n",
       "rating           0.045418\n",
       "duration         0.034064\n",
       "listed_in        0.000000\n",
       "description      0.000000\n",
       "dtype: float64"
      ]
     },
     "execution_count": 6,
     "metadata": {},
     "output_type": "execute_result"
    }
   ],
   "source": [
    "netflix_cleaned.isnull().mean()*100"
   ]
  },
  {
   "cell_type": "code",
   "execution_count": 7,
   "id": "c655f490-f0c4-4b8e-b4e0-876e43e019a2",
   "metadata": {},
   "outputs": [],
   "source": [
    "netflix_cleaned=netflix_cleaned.dropna(subset=['rating','duration'])"
   ]
  },
  {
   "cell_type": "code",
   "execution_count": 8,
   "id": "4f9109ac-2cd4-49d4-adc8-f92f44bd396b",
   "metadata": {},
   "outputs": [
    {
     "data": {
      "text/plain": [
       "type             0.000000\n",
       "title            0.000000\n",
       "director        29.897727\n",
       "cast             9.375000\n",
       "country          9.431818\n",
       "release_year     0.000000\n",
       "rating           0.000000\n",
       "duration         0.000000\n",
       "listed_in        0.000000\n",
       "description      0.000000\n",
       "dtype: float64"
      ]
     },
     "execution_count": 8,
     "metadata": {},
     "output_type": "execute_result"
    }
   ],
   "source": [
    "netflix_cleaned.isnull().mean()*100"
   ]
  },
  {
   "cell_type": "code",
   "execution_count": 19,
   "id": "83b05f29-6aad-4ccb-8b53-2fadbc423966",
   "metadata": {},
   "outputs": [
    {
     "ename": "NameError",
     "evalue": "name 'df' is not defined",
     "output_type": "error",
     "traceback": [
      "\u001b[31m---------------------------------------------------------------------------\u001b[39m",
      "\u001b[31mNameError\u001b[39m                                 Traceback (most recent call last)",
      "\u001b[36mCell\u001b[39m\u001b[36m \u001b[39m\u001b[32mIn[19]\u001b[39m\u001b[32m, line 5\u001b[39m\n\u001b[32m      1\u001b[39m \u001b[38;5;28;01mimport\u001b[39;00m \u001b[34;01mpandas\u001b[39;00m \u001b[38;5;28;01mas\u001b[39;00m \u001b[34;01mpd\u001b[39;00m\n\u001b[32m      3\u001b[39m \u001b[38;5;66;03m# 1️⃣ Construire un dictionnaire réalisateur → pays le plus fréquent\u001b[39;00m\n\u001b[32m      4\u001b[39m dir_country = (\n\u001b[32m----> \u001b[39m\u001b[32m5\u001b[39m     \u001b[43mdf\u001b[49m.dropna(subset=[\u001b[33m'\u001b[39m\u001b[33mdirector\u001b[39m\u001b[33m'\u001b[39m, \u001b[33m'\u001b[39m\u001b[33mcountry\u001b[39m\u001b[33m'\u001b[39m])\n\u001b[32m      6\u001b[39m       .groupby(\u001b[33m'\u001b[39m\u001b[33mdirector\u001b[39m\u001b[33m'\u001b[39m)[\u001b[33m'\u001b[39m\u001b[33mcountry\u001b[39m\u001b[33m'\u001b[39m]\n\u001b[32m      7\u001b[39m       .agg(\u001b[38;5;28;01mlambda\u001b[39;00m x: x.mode().iloc[\u001b[32m0\u001b[39m])  \u001b[38;5;66;03m# prend le pays le plus fréquent pour chaque réalisateur\u001b[39;00m\n\u001b[32m      8\u001b[39m       .to_dict()\n\u001b[32m      9\u001b[39m )\n\u001b[32m     11\u001b[39m \u001b[38;5;66;03m# 2️⃣ Créer une nouvelle colonne pour stocker le pays imputé\u001b[39;00m\n\u001b[32m     12\u001b[39m df[\u001b[33m'\u001b[39m\u001b[33mcountry_imputed\u001b[39m\u001b[33m'\u001b[39m] = df.apply(\n\u001b[32m     13\u001b[39m     \u001b[38;5;28;01mlambda\u001b[39;00m row: dir_country.get(row[\u001b[33m'\u001b[39m\u001b[33mdirector\u001b[39m\u001b[33m'\u001b[39m])\n\u001b[32m     14\u001b[39m     \u001b[38;5;28;01mif\u001b[39;00m pd.isna(row[\u001b[33m'\u001b[39m\u001b[33mcountry\u001b[39m\u001b[33m'\u001b[39m]) \u001b[38;5;129;01mand\u001b[39;00m row[\u001b[33m'\u001b[39m\u001b[33mdirector\u001b[39m\u001b[33m'\u001b[39m] \u001b[38;5;129;01min\u001b[39;00m dir_country\n\u001b[32m     15\u001b[39m     \u001b[38;5;28;01melse\u001b[39;00m pd.NA,\n\u001b[32m     16\u001b[39m     axis=\u001b[32m1\u001b[39m\n\u001b[32m     17\u001b[39m )\n",
      "\u001b[31mNameError\u001b[39m: name 'df' is not defined"
     ]
    }
   ],
   "source": []
  },
  {
   "cell_type": "code",
   "execution_count": 9,
   "id": "6a3be966-756a-44eb-b38f-a168c369ace7",
   "metadata": {},
   "outputs": [],
   "source": [
    "netflix_cleaned['director'] = netflix_cleaned['director'].fillna('No Director registered')\n",
    "netflix_cleaned['cast'] = netflix_cleaned['cast'].fillna('No Cast registered')\n",
    "netflix_cleaned['country'] = netflix_cleaned['country'].fillna('No Country registered')"
=======
      "<class 'pandas.core.frame.DataFrame'>\n",
      "RangeIndex: 8807 entries, 0 to 8806\n",
      "Data columns (total 12 columns):\n",
      " #   Column        Non-Null Count  Dtype \n",
      "---  ------        --------------  ----- \n",
      " 0   show_id       8807 non-null   object\n",
      " 1   type          8807 non-null   object\n",
      " 2   title         8807 non-null   object\n",
      " 3   director      6173 non-null   object\n",
      " 4   cast          7982 non-null   object\n",
      " 5   country       7976 non-null   object\n",
      " 6   date_added    8797 non-null   object\n",
      " 7   release_year  8807 non-null   int64 \n",
      " 8   rating        8803 non-null   object\n",
      " 9   duration      8804 non-null   object\n",
      " 10  listed_in     8807 non-null   object\n",
      " 11  description   8807 non-null   object\n",
      "dtypes: int64(1), object(11)\n",
      "memory usage: 825.8+ KB\n"
     ]
    }
   ],
   "source": [
    "movies.info()"
   ]
  },
  {
   "cell_type": "markdown",
   "id": "0bcfb6aa-ed54-4b7b-949a-1cdfac332703",
   "metadata": {},
   "source": [
    "### 4. Features Selection"
   ]
  },
  {
   "cell_type": "markdown",
   "id": "71b06f6c-4d89-48ec-af14-515d54a41c3d",
   "metadata": {},
   "source": [
    "We first delete the variables that seem to be irrelevant for our analysis.\n",
    "\n",
    "Variable \"show_id\" is irrelevant because we already have an id for each row and variable \"date_added\" is not interesting in our study of the dataset."
>>>>>>> origin/quentin
   ]
  },
  {
   "cell_type": "code",
<<<<<<< HEAD
   "execution_count": 10,
   "id": "3573c086-98c1-4a46-84cf-eec553776c9a",
   "metadata": {},
   "outputs": [
    {
     "data": {
      "text/plain": [
       "type            0.0\n",
       "title           0.0\n",
       "director        0.0\n",
       "cast            0.0\n",
       "country         0.0\n",
       "release_year    0.0\n",
       "rating          0.0\n",
       "duration        0.0\n",
       "listed_in       0.0\n",
       "description     0.0\n",
       "dtype: float64"
      ]
     },
     "execution_count": 10,
     "metadata": {},
     "output_type": "execute_result"
    }
   ],
   "source": [
    "netflix_cleaned.isnull().mean()*100"
   ]
  },
  {
   "cell_type": "code",
   "execution_count": 11,
   "id": "b7580a64-3b57-45dc-8067-2551d0b35532",
=======
   "execution_count": 96,
   "id": "15d6fb58-78b0-449b-9161-05d26fa58074",
>>>>>>> origin/quentin
   "metadata": {},
   "outputs": [
    {
     "data": {
      "text/html": [
       "<div>\n",
       "<style scoped>\n",
       "    .dataframe tbody tr th:only-of-type {\n",
       "        vertical-align: middle;\n",
       "    }\n",
       "\n",
       "    .dataframe tbody tr th {\n",
       "        vertical-align: top;\n",
       "    }\n",
       "\n",
       "    .dataframe thead th {\n",
       "        text-align: right;\n",
       "    }\n",
       "</style>\n",
       "<table border=\"1\" class=\"dataframe\">\n",
       "  <thead>\n",
       "    <tr style=\"text-align: right;\">\n",
       "      <th></th>\n",
       "      <th>type</th>\n",
       "      <th>title</th>\n",
       "      <th>director</th>\n",
       "      <th>cast</th>\n",
       "      <th>country</th>\n",
       "      <th>release_year</th>\n",
       "      <th>rating</th>\n",
       "      <th>duration</th>\n",
       "      <th>listed_in</th>\n",
       "      <th>description</th>\n",
       "    </tr>\n",
       "  </thead>\n",
       "  <tbody>\n",
       "    <tr>\n",
       "      <th>0</th>\n",
       "      <td>Movie</td>\n",
       "      <td>Dick Johnson Is Dead</td>\n",
       "      <td>Kirsten Johnson</td>\n",
<<<<<<< HEAD
       "      <td>No Cast registered</td>\n",
=======
       "      <td>NaN</td>\n",
>>>>>>> origin/quentin
       "      <td>United States</td>\n",
       "      <td>2020</td>\n",
       "      <td>PG-13</td>\n",
       "      <td>90 min</td>\n",
       "      <td>Documentaries</td>\n",
       "      <td>As her father nears the end of his life, filmm...</td>\n",
       "    </tr>\n",
       "    <tr>\n",
       "      <th>1</th>\n",
       "      <td>TV Show</td>\n",
       "      <td>Blood &amp; Water</td>\n",
<<<<<<< HEAD
       "      <td>No Director registered</td>\n",
=======
       "      <td>NaN</td>\n",
>>>>>>> origin/quentin
       "      <td>Ama Qamata, Khosi Ngema, Gail Mabalane, Thaban...</td>\n",
       "      <td>South Africa</td>\n",
       "      <td>2021</td>\n",
       "      <td>TV-MA</td>\n",
       "      <td>2 Seasons</td>\n",
       "      <td>International TV Shows, TV Dramas, TV Mysteries</td>\n",
       "      <td>After crossing paths at a party, a Cape Town t...</td>\n",
       "    </tr>\n",
       "    <tr>\n",
       "      <th>2</th>\n",
       "      <td>TV Show</td>\n",
       "      <td>Ganglands</td>\n",
       "      <td>Julien Leclercq</td>\n",
       "      <td>Sami Bouajila, Tracy Gotoas, Samuel Jouy, Nabi...</td>\n",
<<<<<<< HEAD
       "      <td>No Country registered</td>\n",
=======
       "      <td>NaN</td>\n",
>>>>>>> origin/quentin
       "      <td>2021</td>\n",
       "      <td>TV-MA</td>\n",
       "      <td>1 Season</td>\n",
       "      <td>Crime TV Shows, International TV Shows, TV Act...</td>\n",
       "      <td>To protect his family from a powerful drug lor...</td>\n",
       "    </tr>\n",
       "    <tr>\n",
       "      <th>3</th>\n",
       "      <td>TV Show</td>\n",
       "      <td>Jailbirds New Orleans</td>\n",
<<<<<<< HEAD
       "      <td>No Director registered</td>\n",
       "      <td>No Cast registered</td>\n",
       "      <td>No Country registered</td>\n",
=======
       "      <td>NaN</td>\n",
       "      <td>NaN</td>\n",
       "      <td>NaN</td>\n",
>>>>>>> origin/quentin
       "      <td>2021</td>\n",
       "      <td>TV-MA</td>\n",
       "      <td>1 Season</td>\n",
       "      <td>Docuseries, Reality TV</td>\n",
       "      <td>Feuds, flirtations and toilet talk go down amo...</td>\n",
       "    </tr>\n",
       "    <tr>\n",
       "      <th>4</th>\n",
       "      <td>TV Show</td>\n",
       "      <td>Kota Factory</td>\n",
<<<<<<< HEAD
       "      <td>No Director registered</td>\n",
=======
       "      <td>NaN</td>\n",
>>>>>>> origin/quentin
       "      <td>Mayur More, Jitendra Kumar, Ranjan Raj, Alam K...</td>\n",
       "      <td>India</td>\n",
       "      <td>2021</td>\n",
       "      <td>TV-MA</td>\n",
       "      <td>2 Seasons</td>\n",
       "      <td>International TV Shows, Romantic TV Shows, TV ...</td>\n",
       "      <td>In a city of coaching centers known to train I...</td>\n",
       "    </tr>\n",
       "    <tr>\n",
       "      <th>...</th>\n",
       "      <td>...</td>\n",
       "      <td>...</td>\n",
       "      <td>...</td>\n",
       "      <td>...</td>\n",
       "      <td>...</td>\n",
       "      <td>...</td>\n",
       "      <td>...</td>\n",
       "      <td>...</td>\n",
       "      <td>...</td>\n",
       "      <td>...</td>\n",
       "    </tr>\n",
       "    <tr>\n",
       "      <th>8802</th>\n",
       "      <td>Movie</td>\n",
       "      <td>Zodiac</td>\n",
       "      <td>David Fincher</td>\n",
       "      <td>Mark Ruffalo, Jake Gyllenhaal, Robert Downey J...</td>\n",
       "      <td>United States</td>\n",
       "      <td>2007</td>\n",
       "      <td>R</td>\n",
       "      <td>158 min</td>\n",
       "      <td>Cult Movies, Dramas, Thrillers</td>\n",
       "      <td>A political cartoonist, a crime reporter and a...</td>\n",
       "    </tr>\n",
       "    <tr>\n",
       "      <th>8803</th>\n",
       "      <td>TV Show</td>\n",
       "      <td>Zombie Dumb</td>\n",
<<<<<<< HEAD
       "      <td>No Director registered</td>\n",
       "      <td>No Cast registered</td>\n",
       "      <td>No Country registered</td>\n",
=======
       "      <td>NaN</td>\n",
       "      <td>NaN</td>\n",
       "      <td>NaN</td>\n",
>>>>>>> origin/quentin
       "      <td>2018</td>\n",
       "      <td>TV-Y7</td>\n",
       "      <td>2 Seasons</td>\n",
       "      <td>Kids' TV, Korean TV Shows, TV Comedies</td>\n",
       "      <td>While living alone in a spooky town, a young g...</td>\n",
       "    </tr>\n",
       "    <tr>\n",
       "      <th>8804</th>\n",
       "      <td>Movie</td>\n",
       "      <td>Zombieland</td>\n",
       "      <td>Ruben Fleischer</td>\n",
       "      <td>Jesse Eisenberg, Woody Harrelson, Emma Stone, ...</td>\n",
       "      <td>United States</td>\n",
       "      <td>2009</td>\n",
       "      <td>R</td>\n",
       "      <td>88 min</td>\n",
       "      <td>Comedies, Horror Movies</td>\n",
       "      <td>Looking to survive in a world taken over by zo...</td>\n",
       "    </tr>\n",
       "    <tr>\n",
       "      <th>8805</th>\n",
       "      <td>Movie</td>\n",
       "      <td>Zoom</td>\n",
       "      <td>Peter Hewitt</td>\n",
       "      <td>Tim Allen, Courteney Cox, Chevy Chase, Kate Ma...</td>\n",
       "      <td>United States</td>\n",
       "      <td>2006</td>\n",
       "      <td>PG</td>\n",
       "      <td>88 min</td>\n",
       "      <td>Children &amp; Family Movies, Comedies</td>\n",
       "      <td>Dragged from civilian life, a former superhero...</td>\n",
       "    </tr>\n",
       "    <tr>\n",
       "      <th>8806</th>\n",
       "      <td>Movie</td>\n",
       "      <td>Zubaan</td>\n",
       "      <td>Mozez Singh</td>\n",
       "      <td>Vicky Kaushal, Sarah-Jane Dias, Raaghav Chanan...</td>\n",
       "      <td>India</td>\n",
       "      <td>2015</td>\n",
       "      <td>TV-14</td>\n",
       "      <td>111 min</td>\n",
       "      <td>Dramas, International Movies, Music &amp; Musicals</td>\n",
       "      <td>A scrappy but poor boy worms his way into a ty...</td>\n",
       "    </tr>\n",
       "  </tbody>\n",
       "</table>\n",
<<<<<<< HEAD
       "<p>8800 rows × 10 columns</p>\n",
       "</div>"
      ],
      "text/plain": [
       "         type                  title                director  \\\n",
       "0       Movie   Dick Johnson Is Dead         Kirsten Johnson   \n",
       "1     TV Show          Blood & Water  No Director registered   \n",
       "2     TV Show              Ganglands         Julien Leclercq   \n",
       "3     TV Show  Jailbirds New Orleans  No Director registered   \n",
       "4     TV Show           Kota Factory  No Director registered   \n",
       "...       ...                    ...                     ...   \n",
       "8802    Movie                 Zodiac           David Fincher   \n",
       "8803  TV Show            Zombie Dumb  No Director registered   \n",
       "8804    Movie             Zombieland         Ruben Fleischer   \n",
       "8805    Movie                   Zoom            Peter Hewitt   \n",
       "8806    Movie                 Zubaan             Mozez Singh   \n",
       "\n",
       "                                                   cast  \\\n",
       "0                                    No Cast registered   \n",
       "1     Ama Qamata, Khosi Ngema, Gail Mabalane, Thaban...   \n",
       "2     Sami Bouajila, Tracy Gotoas, Samuel Jouy, Nabi...   \n",
       "3                                    No Cast registered   \n",
       "4     Mayur More, Jitendra Kumar, Ranjan Raj, Alam K...   \n",
       "...                                                 ...   \n",
       "8802  Mark Ruffalo, Jake Gyllenhaal, Robert Downey J...   \n",
       "8803                                 No Cast registered   \n",
       "8804  Jesse Eisenberg, Woody Harrelson, Emma Stone, ...   \n",
       "8805  Tim Allen, Courteney Cox, Chevy Chase, Kate Ma...   \n",
       "8806  Vicky Kaushal, Sarah-Jane Dias, Raaghav Chanan...   \n",
       "\n",
       "                    country  release_year rating   duration  \\\n",
       "0             United States          2020  PG-13     90 min   \n",
       "1              South Africa          2021  TV-MA  2 Seasons   \n",
       "2     No Country registered          2021  TV-MA   1 Season   \n",
       "3     No Country registered          2021  TV-MA   1 Season   \n",
       "4                     India          2021  TV-MA  2 Seasons   \n",
       "...                     ...           ...    ...        ...   \n",
       "8802          United States          2007      R    158 min   \n",
       "8803  No Country registered          2018  TV-Y7  2 Seasons   \n",
       "8804          United States          2009      R     88 min   \n",
       "8805          United States          2006     PG     88 min   \n",
       "8806                  India          2015  TV-14    111 min   \n",
       "\n",
       "                                              listed_in  \\\n",
       "0                                         Documentaries   \n",
=======
       "<p>8807 rows × 10 columns</p>\n",
       "</div>"
      ],
      "text/plain": [
       "         type                  title         director   \n",
       "0       Movie   Dick Johnson Is Dead  Kirsten Johnson  \\\n",
       "1     TV Show          Blood & Water              NaN   \n",
       "2     TV Show              Ganglands  Julien Leclercq   \n",
       "3     TV Show  Jailbirds New Orleans              NaN   \n",
       "4     TV Show           Kota Factory              NaN   \n",
       "...       ...                    ...              ...   \n",
       "8802    Movie                 Zodiac    David Fincher   \n",
       "8803  TV Show            Zombie Dumb              NaN   \n",
       "8804    Movie             Zombieland  Ruben Fleischer   \n",
       "8805    Movie                   Zoom     Peter Hewitt   \n",
       "8806    Movie                 Zubaan      Mozez Singh   \n",
       "\n",
       "                                                   cast        country   \n",
       "0                                                   NaN  United States  \\\n",
       "1     Ama Qamata, Khosi Ngema, Gail Mabalane, Thaban...   South Africa   \n",
       "2     Sami Bouajila, Tracy Gotoas, Samuel Jouy, Nabi...            NaN   \n",
       "3                                                   NaN            NaN   \n",
       "4     Mayur More, Jitendra Kumar, Ranjan Raj, Alam K...          India   \n",
       "...                                                 ...            ...   \n",
       "8802  Mark Ruffalo, Jake Gyllenhaal, Robert Downey J...  United States   \n",
       "8803                                                NaN            NaN   \n",
       "8804  Jesse Eisenberg, Woody Harrelson, Emma Stone, ...  United States   \n",
       "8805  Tim Allen, Courteney Cox, Chevy Chase, Kate Ma...  United States   \n",
       "8806  Vicky Kaushal, Sarah-Jane Dias, Raaghav Chanan...          India   \n",
       "\n",
       "      release_year rating   duration   \n",
       "0             2020  PG-13     90 min  \\\n",
       "1             2021  TV-MA  2 Seasons   \n",
       "2             2021  TV-MA   1 Season   \n",
       "3             2021  TV-MA   1 Season   \n",
       "4             2021  TV-MA  2 Seasons   \n",
       "...            ...    ...        ...   \n",
       "8802          2007      R    158 min   \n",
       "8803          2018  TV-Y7  2 Seasons   \n",
       "8804          2009      R     88 min   \n",
       "8805          2006     PG     88 min   \n",
       "8806          2015  TV-14    111 min   \n",
       "\n",
       "                                              listed_in   \n",
       "0                                         Documentaries  \\\n",
>>>>>>> origin/quentin
       "1       International TV Shows, TV Dramas, TV Mysteries   \n",
       "2     Crime TV Shows, International TV Shows, TV Act...   \n",
       "3                                Docuseries, Reality TV   \n",
       "4     International TV Shows, Romantic TV Shows, TV ...   \n",
       "...                                                 ...   \n",
       "8802                     Cult Movies, Dramas, Thrillers   \n",
       "8803             Kids' TV, Korean TV Shows, TV Comedies   \n",
       "8804                            Comedies, Horror Movies   \n",
       "8805                 Children & Family Movies, Comedies   \n",
       "8806     Dramas, International Movies, Music & Musicals   \n",
       "\n",
       "                                            description  \n",
       "0     As her father nears the end of his life, filmm...  \n",
       "1     After crossing paths at a party, a Cape Town t...  \n",
       "2     To protect his family from a powerful drug lor...  \n",
       "3     Feuds, flirtations and toilet talk go down amo...  \n",
       "4     In a city of coaching centers known to train I...  \n",
       "...                                                 ...  \n",
       "8802  A political cartoonist, a crime reporter and a...  \n",
       "8803  While living alone in a spooky town, a young g...  \n",
       "8804  Looking to survive in a world taken over by zo...  \n",
       "8805  Dragged from civilian life, a former superhero...  \n",
       "8806  A scrappy but poor boy worms his way into a ty...  \n",
       "\n",
<<<<<<< HEAD
       "[8800 rows x 10 columns]"
      ]
     },
     "execution_count": 11,
=======
       "[8807 rows x 10 columns]"
      ]
     },
     "execution_count": 96,
>>>>>>> origin/quentin
     "metadata": {},
     "output_type": "execute_result"
    }
   ],
   "source": [
<<<<<<< HEAD
    "netflix_cleaned"
=======
    "movies_cleaned = movies.drop([\"show_id\", \"date_added\"], axis = 1)\n",
    "movies_cleaned"
   ]
  },
  {
   "cell_type": "markdown",
   "id": "66f0a374-2897-42ce-9161-de962decae56",
   "metadata": {},
   "source": [
    "### 5. Missing Data Analysis"
   ]
  },
  {
   "cell_type": "markdown",
   "id": "8b5b8ada-45bd-4f81-9c33-3844e1283c01",
   "metadata": {},
   "source": [
    "We print the missing values per column to see how many we miss"
>>>>>>> origin/quentin
   ]
  },
  {
   "cell_type": "code",
<<<<<<< HEAD
   "execution_count": 14,
   "id": "235fdcac-7946-4c63-b2ae-eb87f1c62dc3",
=======
   "execution_count": 97,
   "id": "7da3fe72-89d0-4557-94c1-197ea6894fde",
>>>>>>> origin/quentin
   "metadata": {},
   "outputs": [
    {
     "data": {
      "text/plain": [
<<<<<<< HEAD
       "74"
      ]
     },
     "execution_count": 14,
=======
       "type               0\n",
       "title              0\n",
       "director        2634\n",
       "cast             825\n",
       "country          831\n",
       "release_year       0\n",
       "rating             4\n",
       "duration           3\n",
       "listed_in          0\n",
       "description        0\n",
       "dtype: int64"
      ]
     },
     "execution_count": 97,
>>>>>>> origin/quentin
     "metadata": {},
     "output_type": "execute_result"
    }
   ],
   "source": [
<<<<<<< HEAD
    "netflix_cleaned['type'].nunique()\n",
    "netflix_cleaned['director'].unique()\n",
    "#netflix_cleaned['country'].nunique()\n",
    "netflix_cleaned.groupby('director').count().sort_values(by='title',ascending=False)\n",
    "netflix_cleaned['release_year'].nunique()"
=======
    "movies_cleaned.isnull().sum()"
>>>>>>> origin/quentin
   ]
  },
  {
   "cell_type": "code",
<<<<<<< HEAD
   "execution_count": 16,
   "id": "64fae9ab-2730-4c87-b1e2-a2d9f6b90ea1",
=======
   "execution_count": 98,
   "id": "0a361a37-dc8a-46de-a07a-e8e084309dfe",
>>>>>>> origin/quentin
   "metadata": {},
   "outputs": [
    {
     "data": {
      "text/plain": [
<<<<<<< HEAD
       "14"
      ]
     },
     "execution_count": 16,
=======
       "type             0.000000\n",
       "title            0.000000\n",
       "director        29.908028\n",
       "cast             9.367549\n",
       "country          9.435676\n",
       "release_year     0.000000\n",
       "rating           0.045418\n",
       "duration         0.034064\n",
       "listed_in        0.000000\n",
       "description      0.000000\n",
       "dtype: float64"
      ]
     },
     "execution_count": 98,
>>>>>>> origin/quentin
     "metadata": {},
     "output_type": "execute_result"
    }
   ],
   "source": [
<<<<<<< HEAD
    "netflix_cleaned['rating'].nunique()"
=======
    "#With percentages\n",
    "movies_cleaned.isnull().mean() * 100"
   ]
  },
  {
   "cell_type": "code",
   "execution_count": 99,
   "id": "c2e729b1-eb89-44b5-ac85-3220e715a471",
   "metadata": {},
   "outputs": [
    {
     "data": {
      "text/plain": [
       "Text(0.5, 1.0, 'Netflix Dataset Missing Values Matrix per Variable')"
      ]
     },
     "execution_count": 99,
     "metadata": {},
     "output_type": "execute_result"
    },
    {
     "data": {
      "image/png": "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",
      "text/plain": [
       "<Figure size 2500x1000 with 2 Axes>"
      ]
     },
     "metadata": {},
     "output_type": "display_data"
    }
   ],
   "source": [
    "msno.matrix(movies_cleaned)\n",
    "plt.title(\"Netflix Dataset Missing Values Matrix per Variable\", fontsize = 25)"
   ]
  },
  {
   "cell_type": "markdown",
   "id": "b2c8554f-01c0-47e6-96ea-f3361488aa9b",
   "metadata": {},
   "source": [
    "We now treat the missing values with different methods depending on the variable:"
   ]
  },
  {
   "cell_type": "markdown",
   "id": "eb3ecc97-495e-489f-9a8f-2202680f7920",
   "metadata": {},
   "source": [
    "For \"rating\" and \"duration\" variables, we just delete the few rows with missing values as we just have few NA values in each of these variables"
   ]
  },
  {
   "cell_type": "code",
   "execution_count": 100,
   "id": "be5d3d3d-9fcf-430e-a025-b2c2aea584fa",
   "metadata": {},
   "outputs": [],
   "source": [
    "movies_cleaned = movies_cleaned.dropna(subset = [\"rating\", \"duration\"])"
   ]
  },
  {
   "cell_type": "markdown",
   "id": "969fbb80-6e8a-4390-864f-828f18edc01d",
   "metadata": {},
   "source": [
    "For \"director\", \"cast\" and \"country\" variables, we can replace NA values by \"No director\", \"No cast\" and \"No country\" values"
   ]
  },
  {
   "cell_type": "code",
   "execution_count": 101,
   "id": "8efe5bbc-0131-4563-a1f5-cb0725a1b0d9",
   "metadata": {},
   "outputs": [],
   "source": [
    "movies_cleaned.loc[:, \"director\"] = movies_cleaned[\"director\"].fillna(\"No director\")\n",
    "movies_cleaned.loc[:, \"cast\"] = movies_cleaned[\"cast\"].fillna(\"No cast\")\n",
    "movies_cleaned.loc[:, \"country\"] = movies_cleaned[\"country\"].fillna(\"No country\")"
   ]
  },
  {
   "cell_type": "markdown",
   "id": "79fb9f83-da85-413e-ae11-a165f0719d51",
   "metadata": {},
   "source": [
    "We now check we don't have any missing values anymore"
   ]
  },
  {
   "cell_type": "code",
   "execution_count": 102,
   "id": "705fa639-8736-479c-b499-ba242fc47eb1",
   "metadata": {},
   "outputs": [
    {
     "data": {
      "text/plain": [
       "type            0\n",
       "title           0\n",
       "director        0\n",
       "cast            0\n",
       "country         0\n",
       "release_year    0\n",
       "rating          0\n",
       "duration        0\n",
       "listed_in       0\n",
       "description     0\n",
       "dtype: int64"
      ]
     },
     "execution_count": 102,
     "metadata": {},
     "output_type": "execute_result"
    }
   ],
   "source": [
    "movies_cleaned.isnull().sum()"
   ]
  },
  {
   "cell_type": "markdown",
   "id": "db3756ec-7bb6-4c69-a196-3613a898101b",
   "metadata": {},
   "source": [
    "We can also check the new shape of the dataset"
   ]
  },
  {
   "cell_type": "code",
   "execution_count": 103,
   "id": "93d837bf-6c3a-43e9-98cc-6ae3b822f219",
   "metadata": {},
   "outputs": [
    {
     "data": {
      "text/plain": [
       "(8800, 10)"
      ]
     },
     "execution_count": 103,
     "metadata": {},
     "output_type": "execute_result"
    }
   ],
   "source": [
    "movies_cleaned.shape"
   ]
  },
  {
   "cell_type": "markdown",
   "id": "82c2b26b-a1f7-4b4f-bd6f-f11728ab7b20",
   "metadata": {},
   "source": [
    "### 6. Look to remove duplicates"
   ]
  },
  {
   "cell_type": "markdown",
   "id": "54c73949-5947-4aac-9a1f-99ef58cb07f0",
   "metadata": {},
   "source": [
    "We check our dataset to identify possible duplicates"
   ]
  },
  {
   "cell_type": "code",
   "execution_count": 104,
   "id": "b151a483-b55a-4946-8a28-2a966df5ee2c",
   "metadata": {},
   "outputs": [
    {
     "data": {
      "text/plain": [
       "0"
      ]
     },
     "execution_count": 104,
     "metadata": {},
     "output_type": "execute_result"
    }
   ],
   "source": [
    "movies_cleaned.duplicated().sum()"
   ]
  },
  {
   "cell_type": "markdown",
   "id": "eaaf3643-cc09-444d-a692-97758517ec1a",
   "metadata": {},
   "source": [
    "We got 0 duplicates in our dataset"
   ]
  },
  {
   "cell_type": "markdown",
   "id": "9d320d36-6556-4fc9-9d97-58487053c432",
   "metadata": {},
   "source": [
    "### 7. Dataset Transformation"
   ]
  },
  {
   "cell_type": "markdown",
   "id": "8efaa77c-b265-4309-b1b9-76565ff08591",
   "metadata": {},
   "source": [
    "We first look at the \"duration\" variable to see its format and its different values"
   ]
  },
  {
   "cell_type": "code",
   "execution_count": 105,
   "id": "895c0750-8697-46b4-91e4-a01f61ff88d6",
   "metadata": {},
   "outputs": [
    {
     "name": "stdout",
     "output_type": "stream",
     "text": [
      "['90 min' '2 Seasons' '1 Season' '91 min' '125 min' '9 Seasons' '104 min'\n",
      " '127 min' '4 Seasons' '67 min' '94 min' '5 Seasons' '161 min' '61 min'\n",
      " '166 min' '147 min' '103 min' '97 min' '106 min' '111 min' '3 Seasons'\n",
      " '110 min' '105 min' '96 min' '124 min' '116 min' '98 min' '23 min'\n",
      " '115 min' '122 min' '99 min' '88 min' '100 min' '6 Seasons' '102 min'\n",
      " '93 min' '95 min' '85 min' '83 min' '113 min' '13 min' '182 min' '48 min'\n",
      " '145 min' '87 min' '92 min' '80 min' '117 min' '128 min' '119 min'\n",
      " '143 min' '114 min' '118 min' '108 min' '63 min' '121 min' '142 min'\n",
      " '154 min' '120 min' '82 min' '109 min' '101 min' '86 min' '229 min'\n",
      " '76 min' '89 min' '156 min' '112 min' '107 min' '129 min' '135 min'\n",
      " '136 min' '165 min' '150 min' '133 min' '70 min' '84 min' '140 min'\n",
      " '78 min' '7 Seasons' '64 min' '59 min' '139 min' '69 min' '148 min'\n",
      " '189 min' '141 min' '130 min' '138 min' '81 min' '132 min' '10 Seasons'\n",
      " '123 min' '65 min' '68 min' '66 min' '62 min' '74 min' '131 min' '39 min'\n",
      " '46 min' '38 min' '8 Seasons' '17 Seasons' '126 min' '155 min' '159 min'\n",
      " '137 min' '12 min' '273 min' '36 min' '34 min' '77 min' '60 min' '49 min'\n",
      " '58 min' '72 min' '204 min' '212 min' '25 min' '73 min' '29 min' '47 min'\n",
      " '32 min' '35 min' '71 min' '149 min' '33 min' '15 min' '54 min' '224 min'\n",
      " '162 min' '37 min' '75 min' '79 min' '55 min' '158 min' '164 min'\n",
      " '173 min' '181 min' '185 min' '21 min' '24 min' '51 min' '151 min'\n",
      " '42 min' '22 min' '134 min' '177 min' '13 Seasons' '52 min' '14 min'\n",
      " '53 min' '8 min' '57 min' '28 min' '50 min' '9 min' '26 min' '45 min'\n",
      " '171 min' '27 min' '44 min' '146 min' '20 min' '157 min' '17 min'\n",
      " '203 min' '41 min' '30 min' '194 min' '15 Seasons' '233 min' '237 min'\n",
      " '230 min' '195 min' '253 min' '152 min' '190 min' '160 min' '208 min'\n",
      " '180 min' '144 min' '5 min' '174 min' '170 min' '192 min' '209 min'\n",
      " '187 min' '172 min' '16 min' '186 min' '11 min' '193 min' '176 min'\n",
      " '56 min' '169 min' '40 min' '10 min' '3 min' '168 min' '312 min'\n",
      " '153 min' '214 min' '31 min' '163 min' '19 min' '12 Seasons' '179 min'\n",
      " '11 Seasons' '43 min' '200 min' '196 min' '167 min' '178 min' '228 min'\n",
      " '18 min' '205 min' '201 min' '191 min']\n"
     ]
    }
   ],
   "source": [
    "print(movies_cleaned['duration'].unique())"
   ]
  },
  {
   "cell_type": "markdown",
   "id": "0f771bb4-acd5-470d-bb87-1cdba847b6bf",
   "metadata": {},
   "source": [
    "We can then split the variable in 2 variables: \"duration_value\" and \"duration_unit\""
   ]
  },
  {
   "cell_type": "code",
   "execution_count": 107,
   "id": "6863c2c4-0166-4c5f-b9b9-e252159ff5e2",
   "metadata": {},
   "outputs": [
    {
     "name": "stderr",
     "output_type": "stream",
     "text": [
      "/var/folders/mq/9w31n29d4kq7p98h20gsn8h00000gn/T/ipykernel_36062/155744387.py:1: SettingWithCopyWarning: \n",
      "A value is trying to be set on a copy of a slice from a DataFrame.\n",
      "Try using .loc[row_indexer,col_indexer] = value instead\n",
      "\n",
      "See the caveats in the documentation: https://pandas.pydata.org/pandas-docs/stable/user_guide/indexing.html#returning-a-view-versus-a-copy\n",
      "  movies_cleaned[[\"duration_value\", \"duration_unit\"]] = movies_cleaned[\"duration\"].str.split(\" \", expand = True)\n"
     ]
    },
    {
     "data": {
      "text/html": [
       "<div>\n",
       "<style scoped>\n",
       "    .dataframe tbody tr th:only-of-type {\n",
       "        vertical-align: middle;\n",
       "    }\n",
       "\n",
       "    .dataframe tbody tr th {\n",
       "        vertical-align: top;\n",
       "    }\n",
       "\n",
       "    .dataframe thead th {\n",
       "        text-align: right;\n",
       "    }\n",
       "</style>\n",
       "<table border=\"1\" class=\"dataframe\">\n",
       "  <thead>\n",
       "    <tr style=\"text-align: right;\">\n",
       "      <th></th>\n",
       "      <th>type</th>\n",
       "      <th>title</th>\n",
       "      <th>director</th>\n",
       "      <th>cast</th>\n",
       "      <th>country</th>\n",
       "      <th>release_year</th>\n",
       "      <th>rating</th>\n",
       "      <th>duration</th>\n",
       "      <th>listed_in</th>\n",
       "      <th>description</th>\n",
       "      <th>duration_value</th>\n",
       "      <th>duration_unit</th>\n",
       "    </tr>\n",
       "  </thead>\n",
       "  <tbody>\n",
       "    <tr>\n",
       "      <th>0</th>\n",
       "      <td>Movie</td>\n",
       "      <td>Dick Johnson Is Dead</td>\n",
       "      <td>Kirsten Johnson</td>\n",
       "      <td>No cast</td>\n",
       "      <td>United States</td>\n",
       "      <td>2020</td>\n",
       "      <td>PG-13</td>\n",
       "      <td>90 min</td>\n",
       "      <td>Documentaries</td>\n",
       "      <td>As her father nears the end of his life, filmm...</td>\n",
       "      <td>90</td>\n",
       "      <td>min</td>\n",
       "    </tr>\n",
       "    <tr>\n",
       "      <th>1</th>\n",
       "      <td>TV Show</td>\n",
       "      <td>Blood &amp; Water</td>\n",
       "      <td>No director</td>\n",
       "      <td>Ama Qamata, Khosi Ngema, Gail Mabalane, Thaban...</td>\n",
       "      <td>South Africa</td>\n",
       "      <td>2021</td>\n",
       "      <td>TV-MA</td>\n",
       "      <td>2 Seasons</td>\n",
       "      <td>International TV Shows, TV Dramas, TV Mysteries</td>\n",
       "      <td>After crossing paths at a party, a Cape Town t...</td>\n",
       "      <td>2</td>\n",
       "      <td>Seasons</td>\n",
       "    </tr>\n",
       "    <tr>\n",
       "      <th>2</th>\n",
       "      <td>TV Show</td>\n",
       "      <td>Ganglands</td>\n",
       "      <td>Julien Leclercq</td>\n",
       "      <td>Sami Bouajila, Tracy Gotoas, Samuel Jouy, Nabi...</td>\n",
       "      <td>No country</td>\n",
       "      <td>2021</td>\n",
       "      <td>TV-MA</td>\n",
       "      <td>1 Season</td>\n",
       "      <td>Crime TV Shows, International TV Shows, TV Act...</td>\n",
       "      <td>To protect his family from a powerful drug lor...</td>\n",
       "      <td>1</td>\n",
       "      <td>Season</td>\n",
       "    </tr>\n",
       "    <tr>\n",
       "      <th>3</th>\n",
       "      <td>TV Show</td>\n",
       "      <td>Jailbirds New Orleans</td>\n",
       "      <td>No director</td>\n",
       "      <td>No cast</td>\n",
       "      <td>No country</td>\n",
       "      <td>2021</td>\n",
       "      <td>TV-MA</td>\n",
       "      <td>1 Season</td>\n",
       "      <td>Docuseries, Reality TV</td>\n",
       "      <td>Feuds, flirtations and toilet talk go down amo...</td>\n",
       "      <td>1</td>\n",
       "      <td>Season</td>\n",
       "    </tr>\n",
       "    <tr>\n",
       "      <th>4</th>\n",
       "      <td>TV Show</td>\n",
       "      <td>Kota Factory</td>\n",
       "      <td>No director</td>\n",
       "      <td>Mayur More, Jitendra Kumar, Ranjan Raj, Alam K...</td>\n",
       "      <td>India</td>\n",
       "      <td>2021</td>\n",
       "      <td>TV-MA</td>\n",
       "      <td>2 Seasons</td>\n",
       "      <td>International TV Shows, Romantic TV Shows, TV ...</td>\n",
       "      <td>In a city of coaching centers known to train I...</td>\n",
       "      <td>2</td>\n",
       "      <td>Seasons</td>\n",
       "    </tr>\n",
       "    <tr>\n",
       "      <th>...</th>\n",
       "      <td>...</td>\n",
       "      <td>...</td>\n",
       "      <td>...</td>\n",
       "      <td>...</td>\n",
       "      <td>...</td>\n",
       "      <td>...</td>\n",
       "      <td>...</td>\n",
       "      <td>...</td>\n",
       "      <td>...</td>\n",
       "      <td>...</td>\n",
       "      <td>...</td>\n",
       "      <td>...</td>\n",
       "    </tr>\n",
       "    <tr>\n",
       "      <th>8802</th>\n",
       "      <td>Movie</td>\n",
       "      <td>Zodiac</td>\n",
       "      <td>David Fincher</td>\n",
       "      <td>Mark Ruffalo, Jake Gyllenhaal, Robert Downey J...</td>\n",
       "      <td>United States</td>\n",
       "      <td>2007</td>\n",
       "      <td>R</td>\n",
       "      <td>158 min</td>\n",
       "      <td>Cult Movies, Dramas, Thrillers</td>\n",
       "      <td>A political cartoonist, a crime reporter and a...</td>\n",
       "      <td>158</td>\n",
       "      <td>min</td>\n",
       "    </tr>\n",
       "    <tr>\n",
       "      <th>8803</th>\n",
       "      <td>TV Show</td>\n",
       "      <td>Zombie Dumb</td>\n",
       "      <td>No director</td>\n",
       "      <td>No cast</td>\n",
       "      <td>No country</td>\n",
       "      <td>2018</td>\n",
       "      <td>TV-Y7</td>\n",
       "      <td>2 Seasons</td>\n",
       "      <td>Kids' TV, Korean TV Shows, TV Comedies</td>\n",
       "      <td>While living alone in a spooky town, a young g...</td>\n",
       "      <td>2</td>\n",
       "      <td>Seasons</td>\n",
       "    </tr>\n",
       "    <tr>\n",
       "      <th>8804</th>\n",
       "      <td>Movie</td>\n",
       "      <td>Zombieland</td>\n",
       "      <td>Ruben Fleischer</td>\n",
       "      <td>Jesse Eisenberg, Woody Harrelson, Emma Stone, ...</td>\n",
       "      <td>United States</td>\n",
       "      <td>2009</td>\n",
       "      <td>R</td>\n",
       "      <td>88 min</td>\n",
       "      <td>Comedies, Horror Movies</td>\n",
       "      <td>Looking to survive in a world taken over by zo...</td>\n",
       "      <td>88</td>\n",
       "      <td>min</td>\n",
       "    </tr>\n",
       "    <tr>\n",
       "      <th>8805</th>\n",
       "      <td>Movie</td>\n",
       "      <td>Zoom</td>\n",
       "      <td>Peter Hewitt</td>\n",
       "      <td>Tim Allen, Courteney Cox, Chevy Chase, Kate Ma...</td>\n",
       "      <td>United States</td>\n",
       "      <td>2006</td>\n",
       "      <td>PG</td>\n",
       "      <td>88 min</td>\n",
       "      <td>Children &amp; Family Movies, Comedies</td>\n",
       "      <td>Dragged from civilian life, a former superhero...</td>\n",
       "      <td>88</td>\n",
       "      <td>min</td>\n",
       "    </tr>\n",
       "    <tr>\n",
       "      <th>8806</th>\n",
       "      <td>Movie</td>\n",
       "      <td>Zubaan</td>\n",
       "      <td>Mozez Singh</td>\n",
       "      <td>Vicky Kaushal, Sarah-Jane Dias, Raaghav Chanan...</td>\n",
       "      <td>India</td>\n",
       "      <td>2015</td>\n",
       "      <td>TV-14</td>\n",
       "      <td>111 min</td>\n",
       "      <td>Dramas, International Movies, Music &amp; Musicals</td>\n",
       "      <td>A scrappy but poor boy worms his way into a ty...</td>\n",
       "      <td>111</td>\n",
       "      <td>min</td>\n",
       "    </tr>\n",
       "  </tbody>\n",
       "</table>\n",
       "<p>8800 rows × 12 columns</p>\n",
       "</div>"
      ],
      "text/plain": [
       "         type                  title         director   \n",
       "0       Movie   Dick Johnson Is Dead  Kirsten Johnson  \\\n",
       "1     TV Show          Blood & Water      No director   \n",
       "2     TV Show              Ganglands  Julien Leclercq   \n",
       "3     TV Show  Jailbirds New Orleans      No director   \n",
       "4     TV Show           Kota Factory      No director   \n",
       "...       ...                    ...              ...   \n",
       "8802    Movie                 Zodiac    David Fincher   \n",
       "8803  TV Show            Zombie Dumb      No director   \n",
       "8804    Movie             Zombieland  Ruben Fleischer   \n",
       "8805    Movie                   Zoom     Peter Hewitt   \n",
       "8806    Movie                 Zubaan      Mozez Singh   \n",
       "\n",
       "                                                   cast        country   \n",
       "0                                               No cast  United States  \\\n",
       "1     Ama Qamata, Khosi Ngema, Gail Mabalane, Thaban...   South Africa   \n",
       "2     Sami Bouajila, Tracy Gotoas, Samuel Jouy, Nabi...     No country   \n",
       "3                                               No cast     No country   \n",
       "4     Mayur More, Jitendra Kumar, Ranjan Raj, Alam K...          India   \n",
       "...                                                 ...            ...   \n",
       "8802  Mark Ruffalo, Jake Gyllenhaal, Robert Downey J...  United States   \n",
       "8803                                            No cast     No country   \n",
       "8804  Jesse Eisenberg, Woody Harrelson, Emma Stone, ...  United States   \n",
       "8805  Tim Allen, Courteney Cox, Chevy Chase, Kate Ma...  United States   \n",
       "8806  Vicky Kaushal, Sarah-Jane Dias, Raaghav Chanan...          India   \n",
       "\n",
       "      release_year rating   duration   \n",
       "0             2020  PG-13     90 min  \\\n",
       "1             2021  TV-MA  2 Seasons   \n",
       "2             2021  TV-MA   1 Season   \n",
       "3             2021  TV-MA   1 Season   \n",
       "4             2021  TV-MA  2 Seasons   \n",
       "...            ...    ...        ...   \n",
       "8802          2007      R    158 min   \n",
       "8803          2018  TV-Y7  2 Seasons   \n",
       "8804          2009      R     88 min   \n",
       "8805          2006     PG     88 min   \n",
       "8806          2015  TV-14    111 min   \n",
       "\n",
       "                                              listed_in   \n",
       "0                                         Documentaries  \\\n",
       "1       International TV Shows, TV Dramas, TV Mysteries   \n",
       "2     Crime TV Shows, International TV Shows, TV Act...   \n",
       "3                                Docuseries, Reality TV   \n",
       "4     International TV Shows, Romantic TV Shows, TV ...   \n",
       "...                                                 ...   \n",
       "8802                     Cult Movies, Dramas, Thrillers   \n",
       "8803             Kids' TV, Korean TV Shows, TV Comedies   \n",
       "8804                            Comedies, Horror Movies   \n",
       "8805                 Children & Family Movies, Comedies   \n",
       "8806     Dramas, International Movies, Music & Musicals   \n",
       "\n",
       "                                            description duration_value   \n",
       "0     As her father nears the end of his life, filmm...             90  \\\n",
       "1     After crossing paths at a party, a Cape Town t...              2   \n",
       "2     To protect his family from a powerful drug lor...              1   \n",
       "3     Feuds, flirtations and toilet talk go down amo...              1   \n",
       "4     In a city of coaching centers known to train I...              2   \n",
       "...                                                 ...            ...   \n",
       "8802  A political cartoonist, a crime reporter and a...            158   \n",
       "8803  While living alone in a spooky town, a young g...              2   \n",
       "8804  Looking to survive in a world taken over by zo...             88   \n",
       "8805  Dragged from civilian life, a former superhero...             88   \n",
       "8806  A scrappy but poor boy worms his way into a ty...            111   \n",
       "\n",
       "     duration_unit  \n",
       "0              min  \n",
       "1          Seasons  \n",
       "2           Season  \n",
       "3           Season  \n",
       "4          Seasons  \n",
       "...            ...  \n",
       "8802           min  \n",
       "8803       Seasons  \n",
       "8804           min  \n",
       "8805           min  \n",
       "8806           min  \n",
       "\n",
       "[8800 rows x 12 columns]"
      ]
     },
     "execution_count": 107,
     "metadata": {},
     "output_type": "execute_result"
    }
   ],
   "source": [
    "movies_cleaned[[\"duration_value\", \"duration_unit\"]] = movies_cleaned[\"duration\"].str.split(\" \", expand = True)\n",
    "movies_cleaned"
   ]
  },
  {
   "cell_type": "markdown",
   "id": "85a162b3-87a7-486a-a86d-37c7b0db3a36",
   "metadata": {},
   "source": [
    "We check we have the right number of values in each new variable created"
   ]
  },
  {
   "cell_type": "code",
   "execution_count": 113,
   "id": "c3e33569-f24f-4d39-ab86-6b284b8015fc",
   "metadata": {},
   "outputs": [
    {
     "data": {
      "text/plain": [
       "duration_value    8800\n",
       "duration_unit     8800\n",
       "dtype: int64"
      ]
     },
     "execution_count": 113,
     "metadata": {},
     "output_type": "execute_result"
    }
   ],
   "source": [
    "movies_cleaned[[\"duration_value\", \"duration_unit\"]].count()"
   ]
  },
  {
   "cell_type": "markdown",
   "id": "0c5399e1-7db5-4f54-a639-20fd633565b3",
   "metadata": {},
   "source": [
    "We now want to simplify the \"rating\" variable in order to create clearer categories and facilitate the next steps of the analysis"
   ]
  },
  {
   "cell_type": "markdown",
   "id": "9d81e35e-e86f-4c22-852a-4fac70ffd768",
   "metadata": {},
   "source": [
    "First, we examine the \"rating\" variable to understand its format and the different values it contains"
   ]
  },
  {
   "cell_type": "code",
   "execution_count": 110,
   "id": "bbecbfba-b258-487e-9257-61edb100ac86",
   "metadata": {},
   "outputs": [
    {
     "name": "stdout",
     "output_type": "stream",
     "text": [
      "['PG-13' 'TV-MA' 'PG' 'TV-14' 'TV-PG' 'TV-Y' 'TV-Y7' 'R' 'TV-G' 'G'\n",
      " 'NC-17' 'NR' 'TV-Y7-FV' 'UR']\n"
     ]
    }
   ],
   "source": [
    "print(movies_cleaned['rating'].unique())"
   ]
  },
  {
   "cell_type": "markdown",
   "id": "426d9be1-c6b3-48ea-8389-b23823a5a599",
   "metadata": {},
   "source": [
    "We can now create the clearer categories: \"Kids\", \"Teens\" and \"Adults\" and simplify the \"rating\" variable"
   ]
  },
  {
   "cell_type": "code",
   "execution_count": 112,
   "id": "7bac9859-a63f-43a1-bf09-9433ed258333",
   "metadata": {},
   "outputs": [
    {
     "name": "stderr",
     "output_type": "stream",
     "text": [
      "/var/folders/mq/9w31n29d4kq7p98h20gsn8h00000gn/T/ipykernel_36062/2403207580.py:6: SettingWithCopyWarning: \n",
      "A value is trying to be set on a copy of a slice from a DataFrame.\n",
      "Try using .loc[row_indexer,col_indexer] = value instead\n",
      "\n",
      "See the caveats in the documentation: https://pandas.pydata.org/pandas-docs/stable/user_guide/indexing.html#returning-a-view-versus-a-copy\n",
      "  movies_cleaned['rating_category'] = movies['rating'].map(rating_categories)\n"
     ]
    },
    {
     "data": {
      "text/html": [
       "<div>\n",
       "<style scoped>\n",
       "    .dataframe tbody tr th:only-of-type {\n",
       "        vertical-align: middle;\n",
       "    }\n",
       "\n",
       "    .dataframe tbody tr th {\n",
       "        vertical-align: top;\n",
       "    }\n",
       "\n",
       "    .dataframe thead th {\n",
       "        text-align: right;\n",
       "    }\n",
       "</style>\n",
       "<table border=\"1\" class=\"dataframe\">\n",
       "  <thead>\n",
       "    <tr style=\"text-align: right;\">\n",
       "      <th></th>\n",
       "      <th>type</th>\n",
       "      <th>title</th>\n",
       "      <th>director</th>\n",
       "      <th>cast</th>\n",
       "      <th>country</th>\n",
       "      <th>release_year</th>\n",
       "      <th>rating</th>\n",
       "      <th>duration</th>\n",
       "      <th>listed_in</th>\n",
       "      <th>description</th>\n",
       "      <th>duration_value</th>\n",
       "      <th>duration_unit</th>\n",
       "      <th>rating_category</th>\n",
       "    </tr>\n",
       "  </thead>\n",
       "  <tbody>\n",
       "    <tr>\n",
       "      <th>0</th>\n",
       "      <td>Movie</td>\n",
       "      <td>Dick Johnson Is Dead</td>\n",
       "      <td>Kirsten Johnson</td>\n",
       "      <td>No cast</td>\n",
       "      <td>United States</td>\n",
       "      <td>2020</td>\n",
       "      <td>PG-13</td>\n",
       "      <td>90 min</td>\n",
       "      <td>Documentaries</td>\n",
       "      <td>As her father nears the end of his life, filmm...</td>\n",
       "      <td>90</td>\n",
       "      <td>min</td>\n",
       "      <td>Teens</td>\n",
       "    </tr>\n",
       "    <tr>\n",
       "      <th>1</th>\n",
       "      <td>TV Show</td>\n",
       "      <td>Blood &amp; Water</td>\n",
       "      <td>No director</td>\n",
       "      <td>Ama Qamata, Khosi Ngema, Gail Mabalane, Thaban...</td>\n",
       "      <td>South Africa</td>\n",
       "      <td>2021</td>\n",
       "      <td>TV-MA</td>\n",
       "      <td>2 Seasons</td>\n",
       "      <td>International TV Shows, TV Dramas, TV Mysteries</td>\n",
       "      <td>After crossing paths at a party, a Cape Town t...</td>\n",
       "      <td>2</td>\n",
       "      <td>Seasons</td>\n",
       "      <td>Adults</td>\n",
       "    </tr>\n",
       "    <tr>\n",
       "      <th>2</th>\n",
       "      <td>TV Show</td>\n",
       "      <td>Ganglands</td>\n",
       "      <td>Julien Leclercq</td>\n",
       "      <td>Sami Bouajila, Tracy Gotoas, Samuel Jouy, Nabi...</td>\n",
       "      <td>No country</td>\n",
       "      <td>2021</td>\n",
       "      <td>TV-MA</td>\n",
       "      <td>1 Season</td>\n",
       "      <td>Crime TV Shows, International TV Shows, TV Act...</td>\n",
       "      <td>To protect his family from a powerful drug lor...</td>\n",
       "      <td>1</td>\n",
       "      <td>Season</td>\n",
       "      <td>Adults</td>\n",
       "    </tr>\n",
       "    <tr>\n",
       "      <th>3</th>\n",
       "      <td>TV Show</td>\n",
       "      <td>Jailbirds New Orleans</td>\n",
       "      <td>No director</td>\n",
       "      <td>No cast</td>\n",
       "      <td>No country</td>\n",
       "      <td>2021</td>\n",
       "      <td>TV-MA</td>\n",
       "      <td>1 Season</td>\n",
       "      <td>Docuseries, Reality TV</td>\n",
       "      <td>Feuds, flirtations and toilet talk go down amo...</td>\n",
       "      <td>1</td>\n",
       "      <td>Season</td>\n",
       "      <td>Adults</td>\n",
       "    </tr>\n",
       "    <tr>\n",
       "      <th>4</th>\n",
       "      <td>TV Show</td>\n",
       "      <td>Kota Factory</td>\n",
       "      <td>No director</td>\n",
       "      <td>Mayur More, Jitendra Kumar, Ranjan Raj, Alam K...</td>\n",
       "      <td>India</td>\n",
       "      <td>2021</td>\n",
       "      <td>TV-MA</td>\n",
       "      <td>2 Seasons</td>\n",
       "      <td>International TV Shows, Romantic TV Shows, TV ...</td>\n",
       "      <td>In a city of coaching centers known to train I...</td>\n",
       "      <td>2</td>\n",
       "      <td>Seasons</td>\n",
       "      <td>Adults</td>\n",
       "    </tr>\n",
       "    <tr>\n",
       "      <th>...</th>\n",
       "      <td>...</td>\n",
       "      <td>...</td>\n",
       "      <td>...</td>\n",
       "      <td>...</td>\n",
       "      <td>...</td>\n",
       "      <td>...</td>\n",
       "      <td>...</td>\n",
       "      <td>...</td>\n",
       "      <td>...</td>\n",
       "      <td>...</td>\n",
       "      <td>...</td>\n",
       "      <td>...</td>\n",
       "      <td>...</td>\n",
       "    </tr>\n",
       "    <tr>\n",
       "      <th>8802</th>\n",
       "      <td>Movie</td>\n",
       "      <td>Zodiac</td>\n",
       "      <td>David Fincher</td>\n",
       "      <td>Mark Ruffalo, Jake Gyllenhaal, Robert Downey J...</td>\n",
       "      <td>United States</td>\n",
       "      <td>2007</td>\n",
       "      <td>R</td>\n",
       "      <td>158 min</td>\n",
       "      <td>Cult Movies, Dramas, Thrillers</td>\n",
       "      <td>A political cartoonist, a crime reporter and a...</td>\n",
       "      <td>158</td>\n",
       "      <td>min</td>\n",
       "      <td>Adults</td>\n",
       "    </tr>\n",
       "    <tr>\n",
       "      <th>8803</th>\n",
       "      <td>TV Show</td>\n",
       "      <td>Zombie Dumb</td>\n",
       "      <td>No director</td>\n",
       "      <td>No cast</td>\n",
       "      <td>No country</td>\n",
       "      <td>2018</td>\n",
       "      <td>TV-Y7</td>\n",
       "      <td>2 Seasons</td>\n",
       "      <td>Kids' TV, Korean TV Shows, TV Comedies</td>\n",
       "      <td>While living alone in a spooky town, a young g...</td>\n",
       "      <td>2</td>\n",
       "      <td>Seasons</td>\n",
       "      <td>Kids</td>\n",
       "    </tr>\n",
       "    <tr>\n",
       "      <th>8804</th>\n",
       "      <td>Movie</td>\n",
       "      <td>Zombieland</td>\n",
       "      <td>Ruben Fleischer</td>\n",
       "      <td>Jesse Eisenberg, Woody Harrelson, Emma Stone, ...</td>\n",
       "      <td>United States</td>\n",
       "      <td>2009</td>\n",
       "      <td>R</td>\n",
       "      <td>88 min</td>\n",
       "      <td>Comedies, Horror Movies</td>\n",
       "      <td>Looking to survive in a world taken over by zo...</td>\n",
       "      <td>88</td>\n",
       "      <td>min</td>\n",
       "      <td>Adults</td>\n",
       "    </tr>\n",
       "    <tr>\n",
       "      <th>8805</th>\n",
       "      <td>Movie</td>\n",
       "      <td>Zoom</td>\n",
       "      <td>Peter Hewitt</td>\n",
       "      <td>Tim Allen, Courteney Cox, Chevy Chase, Kate Ma...</td>\n",
       "      <td>United States</td>\n",
       "      <td>2006</td>\n",
       "      <td>PG</td>\n",
       "      <td>88 min</td>\n",
       "      <td>Children &amp; Family Movies, Comedies</td>\n",
       "      <td>Dragged from civilian life, a former superhero...</td>\n",
       "      <td>88</td>\n",
       "      <td>min</td>\n",
       "      <td>Teens</td>\n",
       "    </tr>\n",
       "    <tr>\n",
       "      <th>8806</th>\n",
       "      <td>Movie</td>\n",
       "      <td>Zubaan</td>\n",
       "      <td>Mozez Singh</td>\n",
       "      <td>Vicky Kaushal, Sarah-Jane Dias, Raaghav Chanan...</td>\n",
       "      <td>India</td>\n",
       "      <td>2015</td>\n",
       "      <td>TV-14</td>\n",
       "      <td>111 min</td>\n",
       "      <td>Dramas, International Movies, Music &amp; Musicals</td>\n",
       "      <td>A scrappy but poor boy worms his way into a ty...</td>\n",
       "      <td>111</td>\n",
       "      <td>min</td>\n",
       "      <td>Teens</td>\n",
       "    </tr>\n",
       "  </tbody>\n",
       "</table>\n",
       "<p>8800 rows × 13 columns</p>\n",
       "</div>"
      ],
      "text/plain": [
       "         type                  title         director   \n",
       "0       Movie   Dick Johnson Is Dead  Kirsten Johnson  \\\n",
       "1     TV Show          Blood & Water      No director   \n",
       "2     TV Show              Ganglands  Julien Leclercq   \n",
       "3     TV Show  Jailbirds New Orleans      No director   \n",
       "4     TV Show           Kota Factory      No director   \n",
       "...       ...                    ...              ...   \n",
       "8802    Movie                 Zodiac    David Fincher   \n",
       "8803  TV Show            Zombie Dumb      No director   \n",
       "8804    Movie             Zombieland  Ruben Fleischer   \n",
       "8805    Movie                   Zoom     Peter Hewitt   \n",
       "8806    Movie                 Zubaan      Mozez Singh   \n",
       "\n",
       "                                                   cast        country   \n",
       "0                                               No cast  United States  \\\n",
       "1     Ama Qamata, Khosi Ngema, Gail Mabalane, Thaban...   South Africa   \n",
       "2     Sami Bouajila, Tracy Gotoas, Samuel Jouy, Nabi...     No country   \n",
       "3                                               No cast     No country   \n",
       "4     Mayur More, Jitendra Kumar, Ranjan Raj, Alam K...          India   \n",
       "...                                                 ...            ...   \n",
       "8802  Mark Ruffalo, Jake Gyllenhaal, Robert Downey J...  United States   \n",
       "8803                                            No cast     No country   \n",
       "8804  Jesse Eisenberg, Woody Harrelson, Emma Stone, ...  United States   \n",
       "8805  Tim Allen, Courteney Cox, Chevy Chase, Kate Ma...  United States   \n",
       "8806  Vicky Kaushal, Sarah-Jane Dias, Raaghav Chanan...          India   \n",
       "\n",
       "      release_year rating   duration   \n",
       "0             2020  PG-13     90 min  \\\n",
       "1             2021  TV-MA  2 Seasons   \n",
       "2             2021  TV-MA   1 Season   \n",
       "3             2021  TV-MA   1 Season   \n",
       "4             2021  TV-MA  2 Seasons   \n",
       "...            ...    ...        ...   \n",
       "8802          2007      R    158 min   \n",
       "8803          2018  TV-Y7  2 Seasons   \n",
       "8804          2009      R     88 min   \n",
       "8805          2006     PG     88 min   \n",
       "8806          2015  TV-14    111 min   \n",
       "\n",
       "                                              listed_in   \n",
       "0                                         Documentaries  \\\n",
       "1       International TV Shows, TV Dramas, TV Mysteries   \n",
       "2     Crime TV Shows, International TV Shows, TV Act...   \n",
       "3                                Docuseries, Reality TV   \n",
       "4     International TV Shows, Romantic TV Shows, TV ...   \n",
       "...                                                 ...   \n",
       "8802                     Cult Movies, Dramas, Thrillers   \n",
       "8803             Kids' TV, Korean TV Shows, TV Comedies   \n",
       "8804                            Comedies, Horror Movies   \n",
       "8805                 Children & Family Movies, Comedies   \n",
       "8806     Dramas, International Movies, Music & Musicals   \n",
       "\n",
       "                                            description duration_value   \n",
       "0     As her father nears the end of his life, filmm...             90  \\\n",
       "1     After crossing paths at a party, a Cape Town t...              2   \n",
       "2     To protect his family from a powerful drug lor...              1   \n",
       "3     Feuds, flirtations and toilet talk go down amo...              1   \n",
       "4     In a city of coaching centers known to train I...              2   \n",
       "...                                                 ...            ...   \n",
       "8802  A political cartoonist, a crime reporter and a...            158   \n",
       "8803  While living alone in a spooky town, a young g...              2   \n",
       "8804  Looking to survive in a world taken over by zo...             88   \n",
       "8805  Dragged from civilian life, a former superhero...             88   \n",
       "8806  A scrappy but poor boy worms his way into a ty...            111   \n",
       "\n",
       "     duration_unit rating_category  \n",
       "0              min           Teens  \n",
       "1          Seasons          Adults  \n",
       "2           Season          Adults  \n",
       "3           Season          Adults  \n",
       "4          Seasons          Adults  \n",
       "...            ...             ...  \n",
       "8802           min          Adults  \n",
       "8803       Seasons            Kids  \n",
       "8804           min          Adults  \n",
       "8805           min           Teens  \n",
       "8806           min           Teens  \n",
       "\n",
       "[8800 rows x 13 columns]"
      ]
     },
     "execution_count": 112,
     "metadata": {},
     "output_type": "execute_result"
    }
   ],
   "source": [
    "rating_categories = {'TV-Y': 'Kids', 'TV-G': 'Kids', 'TV-Y7': 'Kids', 'TV-Y7-FV': 'Kids', 'G': 'Kids',\n",
    "                    'PG': 'Teens', 'TV-PG': 'Teens', 'PG-13': 'Teens', 'TV-14': 'Teens',\n",
    "                    'R': 'Adults', 'TV-MA': 'Adults', 'NC-17': 'Adults', 'NR': 'Adults', 'UR': 'Adults'\n",
    "                    }\n",
    "\n",
    "movies_cleaned['rating_category'] = movies['rating'].map(rating_categories)\n",
    "movies_cleaned"
   ]
  },
  {
   "cell_type": "markdown",
   "id": "fe790384-aba9-4334-b4c0-413cc30985e2",
   "metadata": {},
   "source": [
    "We check we have the right number of values in the new variable \"rating_category\" created"
   ]
  },
  {
   "cell_type": "code",
   "execution_count": 114,
   "id": "2b1d7eae-f6b1-43c6-b630-890e7c20d11a",
   "metadata": {},
   "outputs": [
    {
     "data": {
      "text/plain": [
       "rating_category    8800\n",
       "dtype: int64"
      ]
     },
     "execution_count": 114,
     "metadata": {},
     "output_type": "execute_result"
    }
   ],
   "source": [
    "movies_cleaned[[\"rating_category\"]].count()"
   ]
  },
  {
   "cell_type": "markdown",
   "id": "1c01bb3d-13b3-426f-a018-b83dc98350cb",
   "metadata": {},
   "source": [
    "### 8. Some Data Visualizations"
   ]
  },
  {
   "cell_type": "code",
   "execution_count": 116,
   "id": "03b912d2-eb1e-4b8d-b508-0c7f945e3ea5",
   "metadata": {},
   "outputs": [
    {
     "name": "stdout",
     "output_type": "stream",
     "text": [
      "director\n",
      "No director                2631\n",
      "Rajiv Chilaka                19\n",
      "Raúl Campos, Jan Suter       18\n",
      "Suhas Kadav                  16\n",
      "Marcus Raboy                 16\n",
      "                           ... \n",
      "Mu Chu                        1\n",
      "Chandra Prakash Dwivedi       1\n",
      "Majid Al Ansari               1\n",
      "Peter Hewitt                  1\n",
      "Mel Stuart                    1\n",
      "Name: count, Length: 4527, dtype: int64\n"
     ]
    }
   ],
   "source": [
    "print(movies_cleaned[\"director\"].value_counts())"
>>>>>>> origin/quentin
   ]
  },
  {
   "cell_type": "code",
   "execution_count": null,
<<<<<<< HEAD
   "id": "aa89671f-906f-4637-85aa-2d61872190b2",
=======
   "id": "f92602f2-872f-4ec4-a407-5092b4afedb6",
   "metadata": {},
   "outputs": [],
   "source": []
  },
  {
   "cell_type": "code",
   "execution_count": null,
   "id": "7da145c3-25bb-4daf-8242-f446cc172003",
   "metadata": {},
   "outputs": [],
   "source": []
  },
  {
   "cell_type": "code",
   "execution_count": 25,
   "id": "265a8917-689f-47f8-bef0-278dc10694ea",
   "metadata": {},
   "outputs": [
    {
     "data": {
      "text/html": [
       "<div>\n",
       "<style scoped>\n",
       "    .dataframe tbody tr th:only-of-type {\n",
       "        vertical-align: middle;\n",
       "    }\n",
       "\n",
       "    .dataframe tbody tr th {\n",
       "        vertical-align: top;\n",
       "    }\n",
       "\n",
       "    .dataframe thead th {\n",
       "        text-align: right;\n",
       "    }\n",
       "</style>\n",
       "<table border=\"1\" class=\"dataframe\">\n",
       "  <thead>\n",
       "    <tr style=\"text-align: right;\">\n",
       "      <th></th>\n",
       "      <th>country</th>\n",
       "      <th>type</th>\n",
       "      <th>title</th>\n",
       "      <th>director</th>\n",
       "      <th>cast</th>\n",
       "      <th>release_year</th>\n",
       "      <th>rating</th>\n",
       "      <th>duration</th>\n",
       "      <th>listed_in</th>\n",
       "      <th>description</th>\n",
       "    </tr>\n",
       "  </thead>\n",
       "  <tbody>\n",
       "    <tr>\n",
       "      <th>604</th>\n",
       "      <td>United States</td>\n",
       "      <td>2815</td>\n",
       "      <td>2815</td>\n",
       "      <td>2815</td>\n",
       "      <td>2815</td>\n",
       "      <td>2815</td>\n",
       "      <td>2815</td>\n",
       "      <td>2815</td>\n",
       "      <td>2815</td>\n",
       "      <td>2815</td>\n",
       "    </tr>\n",
       "    <tr>\n",
       "      <th>251</th>\n",
       "      <td>India</td>\n",
       "      <td>972</td>\n",
       "      <td>972</td>\n",
       "      <td>972</td>\n",
       "      <td>972</td>\n",
       "      <td>972</td>\n",
       "      <td>972</td>\n",
       "      <td>972</td>\n",
       "      <td>972</td>\n",
       "      <td>972</td>\n",
       "    </tr>\n",
       "    <tr>\n",
       "      <th>370</th>\n",
       "      <td>No country</td>\n",
       "      <td>830</td>\n",
       "      <td>830</td>\n",
       "      <td>830</td>\n",
       "      <td>830</td>\n",
       "      <td>830</td>\n",
       "      <td>830</td>\n",
       "      <td>830</td>\n",
       "      <td>830</td>\n",
       "      <td>830</td>\n",
       "    </tr>\n",
       "    <tr>\n",
       "      <th>507</th>\n",
       "      <td>United Kingdom</td>\n",
       "      <td>419</td>\n",
       "      <td>419</td>\n",
       "      <td>419</td>\n",
       "      <td>419</td>\n",
       "      <td>419</td>\n",
       "      <td>419</td>\n",
       "      <td>419</td>\n",
       "      <td>419</td>\n",
       "      <td>419</td>\n",
       "    </tr>\n",
       "    <tr>\n",
       "      <th>319</th>\n",
       "      <td>Japan</td>\n",
       "      <td>244</td>\n",
       "      <td>244</td>\n",
       "      <td>244</td>\n",
       "      <td>244</td>\n",
       "      <td>244</td>\n",
       "      <td>244</td>\n",
       "      <td>244</td>\n",
       "      <td>244</td>\n",
       "      <td>244</td>\n",
       "    </tr>\n",
       "    <tr>\n",
       "      <th>...</th>\n",
       "      <td>...</td>\n",
       "      <td>...</td>\n",
       "      <td>...</td>\n",
       "      <td>...</td>\n",
       "      <td>...</td>\n",
       "      <td>...</td>\n",
       "      <td>...</td>\n",
       "      <td>...</td>\n",
       "      <td>...</td>\n",
       "      <td>...</td>\n",
       "    </tr>\n",
       "    <tr>\n",
       "      <th>744</th>\n",
       "      <td>Venezuela</td>\n",
       "      <td>1</td>\n",
       "      <td>1</td>\n",
       "      <td>1</td>\n",
       "      <td>1</td>\n",
       "      <td>1</td>\n",
       "      <td>1</td>\n",
       "      <td>1</td>\n",
       "      <td>1</td>\n",
       "      <td>1</td>\n",
       "    </tr>\n",
       "    <tr>\n",
       "      <th>745</th>\n",
       "      <td>Venezuela, Colombia</td>\n",
       "      <td>1</td>\n",
       "      <td>1</td>\n",
       "      <td>1</td>\n",
       "      <td>1</td>\n",
       "      <td>1</td>\n",
       "      <td>1</td>\n",
       "      <td>1</td>\n",
       "      <td>1</td>\n",
       "      <td>1</td>\n",
       "    </tr>\n",
       "    <tr>\n",
       "      <th>1</th>\n",
       "      <td>, South Korea</td>\n",
       "      <td>1</td>\n",
       "      <td>1</td>\n",
       "      <td>1</td>\n",
       "      <td>1</td>\n",
       "      <td>1</td>\n",
       "      <td>1</td>\n",
       "      <td>1</td>\n",
       "      <td>1</td>\n",
       "      <td>1</td>\n",
       "    </tr>\n",
       "    <tr>\n",
       "      <th>747</th>\n",
       "      <td>West Germany</td>\n",
       "      <td>1</td>\n",
       "      <td>1</td>\n",
       "      <td>1</td>\n",
       "      <td>1</td>\n",
       "      <td>1</td>\n",
       "      <td>1</td>\n",
       "      <td>1</td>\n",
       "      <td>1</td>\n",
       "      <td>1</td>\n",
       "    </tr>\n",
       "    <tr>\n",
       "      <th>0</th>\n",
       "      <td>, France, Algeria</td>\n",
       "      <td>1</td>\n",
       "      <td>1</td>\n",
       "      <td>1</td>\n",
       "      <td>1</td>\n",
       "      <td>1</td>\n",
       "      <td>1</td>\n",
       "      <td>1</td>\n",
       "      <td>1</td>\n",
       "      <td>1</td>\n",
       "    </tr>\n",
       "  </tbody>\n",
       "</table>\n",
       "<p>749 rows × 10 columns</p>\n",
       "</div>"
      ],
      "text/plain": [
       "                 country  type  title  director  cast  release_year  rating   \n",
       "604        United States  2815   2815      2815  2815          2815    2815  \\\n",
       "251                India   972    972       972   972           972     972   \n",
       "370           No country   830    830       830   830           830     830   \n",
       "507       United Kingdom   419    419       419   419           419     419   \n",
       "319                Japan   244    244       244   244           244     244   \n",
       "..                   ...   ...    ...       ...   ...           ...     ...   \n",
       "744            Venezuela     1      1         1     1             1       1   \n",
       "745  Venezuela, Colombia     1      1         1     1             1       1   \n",
       "1          , South Korea     1      1         1     1             1       1   \n",
       "747         West Germany     1      1         1     1             1       1   \n",
       "0      , France, Algeria     1      1         1     1             1       1   \n",
       "\n",
       "     duration  listed_in  description  \n",
       "604      2815       2815         2815  \n",
       "251       972        972          972  \n",
       "370       830        830          830  \n",
       "507       419        419          419  \n",
       "319       244        244          244  \n",
       "..        ...        ...          ...  \n",
       "744         1          1            1  \n",
       "745         1          1            1  \n",
       "1           1          1            1  \n",
       "747         1          1            1  \n",
       "0           1          1            1  \n",
       "\n",
       "[749 rows x 10 columns]"
      ]
     },
     "execution_count": 25,
     "metadata": {},
     "output_type": "execute_result"
    }
   ],
   "source": [
    "grouped = movies_cleaned.groupby(\"country\", as_index = False).count()\n",
    "orted_grouped = grouped.sort_values(by='title', ascending=False)\n",
    "orted_grouped"
   ]
  },
  {
   "cell_type": "code",
   "execution_count": 26,
   "id": "e96093e3-421b-4d33-830c-efa5d1992e2f",
   "metadata": {},
   "outputs": [
    {
     "data": {
      "text/html": [
       "<div>\n",
       "<style scoped>\n",
       "    .dataframe tbody tr th:only-of-type {\n",
       "        vertical-align: middle;\n",
       "    }\n",
       "\n",
       "    .dataframe tbody tr th {\n",
       "        vertical-align: top;\n",
       "    }\n",
       "\n",
       "    .dataframe thead th {\n",
       "        text-align: right;\n",
       "    }\n",
       "</style>\n",
       "<table border=\"1\" class=\"dataframe\">\n",
       "  <thead>\n",
       "    <tr style=\"text-align: right;\">\n",
       "      <th></th>\n",
       "      <th>type</th>\n",
       "      <th>title</th>\n",
       "      <th>director</th>\n",
       "      <th>cast</th>\n",
       "      <th>country</th>\n",
       "      <th>release_year</th>\n",
       "      <th>rating</th>\n",
       "      <th>duration</th>\n",
       "      <th>listed_in</th>\n",
       "      <th>description</th>\n",
       "    </tr>\n",
       "  </thead>\n",
       "  <tbody>\n",
       "    <tr>\n",
       "      <th>0</th>\n",
       "      <td>Movie</td>\n",
       "      <td>6126</td>\n",
       "      <td>6126</td>\n",
       "      <td>6126</td>\n",
       "      <td>6126</td>\n",
       "      <td>6126</td>\n",
       "      <td>6126</td>\n",
       "      <td>6126</td>\n",
       "      <td>6126</td>\n",
       "      <td>6126</td>\n",
       "    </tr>\n",
       "    <tr>\n",
       "      <th>1</th>\n",
       "      <td>TV Show</td>\n",
       "      <td>2674</td>\n",
       "      <td>2674</td>\n",
       "      <td>2674</td>\n",
       "      <td>2674</td>\n",
       "      <td>2674</td>\n",
       "      <td>2674</td>\n",
       "      <td>2674</td>\n",
       "      <td>2674</td>\n",
       "      <td>2674</td>\n",
       "    </tr>\n",
       "  </tbody>\n",
       "</table>\n",
       "</div>"
      ],
      "text/plain": [
       "      type  title  director  cast  country  release_year  rating  duration   \n",
       "0    Movie   6126      6126  6126     6126          6126    6126      6126  \\\n",
       "1  TV Show   2674      2674  2674     2674          2674    2674      2674   \n",
       "\n",
       "   listed_in  description  \n",
       "0       6126         6126  \n",
       "1       2674         2674  "
      ]
     },
     "execution_count": 26,
     "metadata": {},
     "output_type": "execute_result"
    }
   ],
   "source": [
    "movies_cleaned.groupby(\"type\", as_index = False).count()"
   ]
  },
  {
   "cell_type": "code",
   "execution_count": 55,
   "id": "9712d758-b555-4c55-91d4-a11889bc13e6",
   "metadata": {},
   "outputs": [
    {
     "data": {
      "text/plain": [
       "array([2021, 2020, 2019, 2018, 2017, 2016, 2015, 2014, 2013, 2012, 2011,\n",
       "       2010, 2009, 2008, 2007, 2006, 2005, 2004, 2003, 2002, 2001, 2000,\n",
       "       1999, 1998, 1997, 1996, 1995, 1994, 1993, 1992, 1991, 1990, 1989,\n",
       "       1988, 1987, 1986, 1985, 1984, 1983, 1982, 1981, 1980, 1979, 1978,\n",
       "       1977, 1976, 1975, 1974, 1973, 1972, 1971, 1970, 1969, 1968, 1967,\n",
       "       1966, 1965, 1964, 1963, 1962, 1961, 1960, 1959, 1958, 1956, 1955,\n",
       "       1954, 1947, 1946, 1945, 1944, 1943, 1942, 1925])"
      ]
     },
     "execution_count": 55,
     "metadata": {},
     "output_type": "execute_result"
    }
   ],
   "source": [
    "movies_cleaned['release_year'].sort_values(ascending = False).unique()"
   ]
  },
  {
   "cell_type": "code",
   "execution_count": null,
   "id": "0b7f5409-6704-41c2-b864-08773e9f6708",
   "metadata": {},
   "outputs": [],
   "source": []
  },
  {
   "cell_type": "code",
   "execution_count": null,
   "id": "ba72f873-b1b7-4af7-8d96-ff427c688f02",
>>>>>>> origin/quentin
   "metadata": {},
   "outputs": [],
   "source": []
  }
 ],
 "metadata": {
  "kernelspec": {
   "display_name": "Python 3 (ipykernel)",
   "language": "python",
   "name": "python3"
  },
  "language_info": {
   "codemirror_mode": {
    "name": "ipython",
    "version": 3
   },
   "file_extension": ".py",
   "mimetype": "text/x-python",
   "name": "python",
   "nbconvert_exporter": "python",
   "pygments_lexer": "ipython3",
<<<<<<< HEAD
   "version": "3.12.3"
=======
   "version": "3.11.7"
>>>>>>> origin/quentin
  }
 },
 "nbformat": 4,
 "nbformat_minor": 5
}
